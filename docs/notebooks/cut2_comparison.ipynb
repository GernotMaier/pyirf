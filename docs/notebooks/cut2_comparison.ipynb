{
 "cells": [
  {
   "cell_type": "markdown",
   "metadata": {},
   "source": [
    "# Comparison with EventDisplay"
   ]
  },
  {
   "cell_type": "markdown",
   "metadata": {},
   "source": [
    "**Purpose of this notebook:**\n",
    "\n",
    "Compare IRF and Sensitivity as computed by pyirf and EventDisplay on the same DL2 results\n",
    "\n",
    "**Notes:**\n",
    "\n",
    "The following results correspond to:\n",
    "\n",
    "- Paranal site\n",
    "- Zd 20 deg, Az 180 deg\n",
    "- 50 h observation time\n",
    "\n",
    "**Resources:**\n",
    "\n",
    "_EventDisplay_ DL2 data, https://forge.in2p3.fr/projects/cta_analysis-and-simulations/wiki/Eventdisplay_Prod3b_DL2_Lists\n",
    "\n",
    "\n",
    "Download and unpack the data using \n",
    "\n",
    "```bash\n",
    "$ curl -fL -o data.zip https://nextcloud.e5.physik.tu-dortmund.de/index.php/s/Cstsf8MWZjnz92L/download\n",
    "$ unzip data.zip\n",
    "$ mv eventdisplay_dl2 data\n",
    "```"
   ]
  },
  {
   "cell_type": "markdown",
   "metadata": {},
   "source": [
    "## Table of contents\n",
    "\n",
    "* [Optimized cuts](#Optimized-cuts)\n",
    "    - [Direction cut](#Direction-cut)\n",
    "* [Differential sensitivity from cuts optimization](#Differential-sensitivity-from-cuts-optimization)\n",
    "* [IRFs](#IRFs)\n",
    "    - [Effective area](#Effective-area)\n",
    "    - [Point Spread Function](#Point-Spread-Function)\n",
    "        + [Angular resolution](#Angular-resolution)\n",
    "    - [Energy dispersion](#Energy-dispersion)\n",
    "        + [Energy resolution](#Energy-resolution)\n",
    "    - [Background rate](#Background-rate)"
   ]
  },
  {
   "cell_type": "markdown",
   "metadata": {
    "nbsphinx": "hidden"
   },
   "source": [
    "## Imports"
   ]
  },
  {
   "cell_type": "code",
   "execution_count": 11,
   "metadata": {},
   "outputs": [],
   "source": [
    "import os\n",
    "\n",
    "import numpy as np\n",
    "import uproot\n",
    "from astropy.io import fits\n",
    "import astropy.units as u\n",
    "import matplotlib.pyplot as plt\n",
    "from astropy.table import QTable\n",
    "from matplotlib.ticker import ScalarFormatter\n",
    "\n",
    "from pyirf.binning import bin_center\n",
    "\n",
    "%matplotlib inline"
   ]
  },
  {
   "cell_type": "code",
   "execution_count": 12,
   "metadata": {},
   "outputs": [],
   "source": [
    "plt.rcParams['figure.figsize'] = (9, 6)"
   ]
  },
  {
   "cell_type": "markdown",
   "metadata": {
    "nbsphinx": "hidden"
   },
   "source": [
    "## Input data"
   ]
  },
  {
   "cell_type": "markdown",
   "metadata": {
    "nbsphinx": "hidden"
   },
   "source": [
    "### _EventDisplay_"
   ]
  },
  {
   "cell_type": "markdown",
   "metadata": {
    "nbsphinx": "hidden"
   },
   "source": [
    "The input data provided by _EventDisplay_ is stored in _ROOT_ format, so _uproot_ is used to transform it into _numpy_ objects. "
   ]
  },
  {
   "cell_type": "code",
   "execution_count": 13,
   "metadata": {
    "tags": [
     "parameters"
    ]
   },
   "outputs": [],
   "source": [
    "# Path of EventDisplay IRF data in the user's local setup\n",
    "# Please, empty the indir_EventDisplay variable before pushing to the repo\n",
    "indir = \"../../data/\"\n",
    "irf_file_event_display = \"DESY.d20180113.V3.ID0NIM2LST4MST4SST4SCMST4.prod3b-paranal20degs05b-NN.S.3HB9-FD.180000s.root\"\n",
    "\n",
    "irf_eventdisplay = uproot.open(os.path.join(indir, irf_file_event_display))"
   ]
  },
  {
   "cell_type": "code",
   "execution_count": 14,
   "metadata": {},
   "outputs": [
    {
     "data": {
      "text/plain": [
       "[b'IntSens;1',\n",
       " b'IntSensCU;1',\n",
       " b'DiffSens;1',\n",
       " b'DiffSensCU;1',\n",
       " b'BGRate;1',\n",
       " b'ProtRate;1',\n",
       " b'ElecRate;1',\n",
       " b'BGRatePerSqDeg;1',\n",
       " b'ProtRateSqDeg;1',\n",
       " b'ElecRateSqDeg;1',\n",
       " b'EffectiveArea;1',\n",
       " b'EffectiveAreaEtrue;1',\n",
       " b'EffectiveAreaEtrueNoTheta2cut;1',\n",
       " b'EffectiveAreaNoTheta2cut;1',\n",
       " b'EffectiveArea80;1',\n",
       " b'AngRes;1',\n",
       " b'AngRes80;1',\n",
       " b'AngRes95;1',\n",
       " b'AngResEtrue;1',\n",
       " b'AngResEtrue80;1',\n",
       " b'AngResEtrue95;1',\n",
       " b'ERes;1',\n",
       " b'Ebias;1',\n",
       " b'Theta2Cut;1',\n",
       " b'ThetaCut;1',\n",
       " b'MigMatrix;1',\n",
       " b'MigMatrixNoTheta2cut;1',\n",
       " b'EestOverEtrue;1',\n",
       " b'EestOverEtrueNoTheta2cut;1',\n",
       " b'AngularPSF2D;1',\n",
       " b'AngularPSF2DEtrue;1',\n",
       " b'IntSens_offaxis;1',\n",
       " b'IntSensCU_offaxis;1',\n",
       " b'DiffSens_offaxis;1',\n",
       " b'DiffSensCU_offaxis;1',\n",
       " b'BGRate_offaxis;1',\n",
       " b'ProtRate_offaxis;1',\n",
       " b'ElecRate_offaxis;1',\n",
       " b'BGRatePerSqDeg_offaxis;1',\n",
       " b'ProtRateSqDeg_offaxis;1',\n",
       " b'ElecRateSqDeg_offaxis;1',\n",
       " b'EffectiveArea_offaxis;1',\n",
       " b'EffectiveAreaEtrue_offaxis;1',\n",
       " b'EffectiveAreaEtrueNoTheta2cut_offaxis;1',\n",
       " b'EffectiveAreaNoTheta2cut_offaxis;1',\n",
       " b'EffectiveArea80_offaxis;1',\n",
       " b'AngRes_offaxis;1',\n",
       " b'AngRes80_offaxis;1',\n",
       " b'AngRes95_offaxis;1',\n",
       " b'AngResEtrue_offaxis;1',\n",
       " b'AngResEtrue80_offaxis;1',\n",
       " b'AngResEtrue95_offaxis;1',\n",
       " b'ERes_offaxis;1',\n",
       " b'Ebias_offaxis;1',\n",
       " b'Theta2Cut_offaxis;1',\n",
       " b'ThetaCut_offaxis;1',\n",
       " b'MigMatrix_offaxis;1',\n",
       " b'MigMatrixNoTheta2cut_offaxis;1',\n",
       " b'EestOverEtrue_offaxis;1',\n",
       " b'EestOverEtrueNoTheta2cut_offaxis;1',\n",
       " b'AngularPSF2D_offaxis;1',\n",
       " b'AngularPSF2DEtrue_offaxis;1',\n",
       " b'debug;1']"
      ]
     },
     "execution_count": 14,
     "metadata": {},
     "output_type": "execute_result"
    }
   ],
   "source": [
    "irf_eventdisplay.keys()"
   ]
  },
  {
   "cell_type": "code",
   "execution_count": 15,
   "metadata": {},
   "outputs": [
    {
     "data": {
      "text/html": [
       "<i>QTable length=21</i>\n",
       "<table id=\"table139897205678864\" class=\"table-striped table-bordered table-condensed\">\n",
       "<thead><tr><th>reco_energy_low</th><th>reco_energy_high</th><th>reco_energy_center</th><th>n_electron_weighted</th><th>n_proton_weighted</th><th>n_background_weighted</th><th>relative_sensitivity</th><th>flux_sensitivity</th></tr></thead>\n",
       "<thead><tr><th></th><th></th><th></th><th></th><th></th><th></th><th></th><th>erg / (cm2 s)</th></tr></thead>\n",
       "<thead><tr><th>float64</th><th>float64</th><th>float64</th><th>float32</th><th>float32</th><th>float32</th><th>float32</th><th>float32</th></tr></thead>\n",
       "<tr><td>0.0126</td><td>0.02</td><td>0.0163</td><td>1344.9</td><td>11477.6</td><td>12822.5</td><td>0.085</td><td>4.89e-11</td></tr>\n",
       "<tr><td>0.02</td><td>0.0316</td><td>0.0258</td><td>19263.4</td><td>77542.4</td><td>96805.8</td><td>0.057</td><td>2.45e-11</td></tr>\n",
       "<tr><td>0.0316</td><td>0.0501</td><td>0.0409</td><td>11820.2</td><td>34612.5</td><td>46432.7</td><td>0.023</td><td>7.54e-12</td></tr>\n",
       "<tr><td>0.0501</td><td>0.0794</td><td>0.0648</td><td>3707.1</td><td>8053.7</td><td>11760.8</td><td>0.0073</td><td>1.81e-12</td></tr>\n",
       "<tr><td>0.0794</td><td>0.126</td><td>0.103</td><td>2493.2</td><td>3391.1</td><td>5884.3</td><td>0.0043</td><td>7.9e-13</td></tr>\n",
       "<tr><td>0.126</td><td>0.2</td><td>0.163</td><td>915.2</td><td>847.7</td><td>1762.8</td><td>0.0034</td><td>4.67e-13</td></tr>\n",
       "<tr><td>0.2</td><td>0.316</td><td>0.258</td><td>351.6</td><td>197.0</td><td>548.6</td><td>0.0028</td><td>2.89e-13</td></tr>\n",
       "<tr><td>0.316</td><td>0.501</td><td>0.409</td><td>133.5</td><td>59.5</td><td>193.1</td><td>0.0025</td><td>1.98e-13</td></tr>\n",
       "<tr><td>0.501</td><td>0.794</td><td>0.648</td><td>50.4</td><td>21.2</td><td>71.6</td><td>0.0024</td><td>1.44e-13</td></tr>\n",
       "<tr><td>0.794</td><td>1.26</td><td>1.03</td><td>19.2</td><td>8.9</td><td>28.1</td><td>0.0023</td><td>1.01e-13</td></tr>\n",
       "<tr><td>1.26</td><td>2</td><td>1.63</td><td>9.5</td><td>7.7</td><td>17.2</td><td>0.0024</td><td>8.2e-14</td></tr>\n",
       "<tr><td>2</td><td>3.16</td><td>2.58</td><td>4.5</td><td>6.4</td><td>10.9</td><td>0.0028</td><td>7.01e-14</td></tr>\n",
       "<tr><td>3.16</td><td>5.01</td><td>4.09</td><td>1.5</td><td>4.7</td><td>6.2</td><td>0.0033</td><td>6.28e-14</td></tr>\n",
       "<tr><td>5.01</td><td>7.94</td><td>6.48</td><td>0.5</td><td>3.8</td><td>4.3</td><td>0.005</td><td>7.14e-14</td></tr>\n",
       "<tr><td>7.94</td><td>12.6</td><td>10.3</td><td>0.1</td><td>0.9</td><td>1.0</td><td>0.0059</td><td>6.36e-14</td></tr>\n",
       "<tr><td>12.6</td><td>20</td><td>16.3</td><td>0.0</td><td>0.6</td><td>0.7</td><td>0.01</td><td>8.42e-14</td></tr>\n",
       "<tr><td>20</td><td>31.6</td><td>25.8</td><td>0.0</td><td>0.1</td><td>0.1</td><td>0.02</td><td>1.18e-13</td></tr>\n",
       "<tr><td>31.6</td><td>50.1</td><td>40.9</td><td>0.0</td><td>0.1</td><td>0.1</td><td>0.041</td><td>1.84e-13</td></tr>\n",
       "<tr><td>50.1</td><td>79.4</td><td>64.8</td><td>0.0</td><td>0.0</td><td>0.0</td><td>0.083</td><td>2.82e-13</td></tr>\n",
       "<tr><td>79.4</td><td>126</td><td>103</td><td>0.0</td><td>0.0</td><td>0.0</td><td>0.17</td><td>4.46e-13</td></tr>\n",
       "<tr><td>126</td><td>200</td><td>163</td><td>0.0</td><td>0.0</td><td>0.0</td><td>0.36</td><td>6.94e-13</td></tr>\n",
       "</table>"
      ],
      "text/plain": [
       "<QTable length=21>\n",
       "reco_energy_low reco_energy_high ... relative_sensitivity flux_sensitivity\n",
       "                                 ...                       erg / (cm2 s)  \n",
       "    float64         float64      ...       float32            float32     \n",
       "--------------- ---------------- ... -------------------- ----------------\n",
       "         0.0126             0.02 ...                0.085         4.89e-11\n",
       "           0.02           0.0316 ...                0.057         2.45e-11\n",
       "         0.0316           0.0501 ...                0.023         7.54e-12\n",
       "         0.0501           0.0794 ...               0.0073         1.81e-12\n",
       "         0.0794            0.126 ...               0.0043          7.9e-13\n",
       "          0.126              0.2 ...               0.0034         4.67e-13\n",
       "            0.2            0.316 ...               0.0028         2.89e-13\n",
       "          0.316            0.501 ...               0.0025         1.98e-13\n",
       "          0.501            0.794 ...               0.0024         1.44e-13\n",
       "          0.794             1.26 ...               0.0023         1.01e-13\n",
       "           1.26                2 ...               0.0024          8.2e-14\n",
       "              2             3.16 ...               0.0028         7.01e-14\n",
       "           3.16             5.01 ...               0.0033         6.28e-14\n",
       "           5.01             7.94 ...                0.005         7.14e-14\n",
       "           7.94             12.6 ...               0.0059         6.36e-14\n",
       "           12.6               20 ...                 0.01         8.42e-14\n",
       "             20             31.6 ...                 0.02         1.18e-13\n",
       "           31.6             50.1 ...                0.041         1.84e-13\n",
       "           50.1             79.4 ...                0.083         2.82e-13\n",
       "           79.4              126 ...                 0.17         4.46e-13\n",
       "            126              200 ...                 0.36         6.94e-13"
      ]
     },
     "execution_count": 15,
     "metadata": {},
     "output_type": "execute_result"
    }
   ],
   "source": [
    "sensitivity_ed = QTable({\n",
    "    'reco_energy_low': 10**irf_eventdisplay['ElecRate;1'].edges[:-1],\n",
    "    'reco_energy_high': 10**irf_eventdisplay['ElecRate;1'].edges[1:],\n",
    "    'reco_energy_center': bin_center(10**irf_eventdisplay['ElecRate;1'].edges),\n",
    "    'n_electron_weighted': irf_eventdisplay['ElecRate;1'].values * 3600 * 50,\n",
    "    'n_proton_weighted': irf_eventdisplay['ProtRate;1'].values * 3600 * 50,\n",
    "    'n_background_weighted': irf_eventdisplay['BGRate;1'].values * 3600 * 50,\n",
    "    'relative_sensitivity': irf_eventdisplay['DiffSensCU;1'].values,\n",
    "    'flux_sensitivity': irf_eventdisplay['DiffSens;1'].values * u.Unit('erg cm-2 s-1'),\n",
    "})\n",
    "\n",
    "# make it print nice\n",
    "sensitivity_ed['reco_energy_low'].info.format = '.3g'\n",
    "sensitivity_ed['reco_energy_high'].info.format = '.3g'\n",
    "sensitivity_ed['reco_energy_center'].info.format = '.3g'\n",
    "sensitivity_ed['relative_sensitivity'].info.format = '.2g'\n",
    "sensitivity_ed['flux_sensitivity'].info.format = '.3g'\n",
    "\n",
    "for k in filter(lambda k: k.startswith('n_'), sensitivity_ed.colnames):\n",
    "    sensitivity_ed[k].info.format = '.1f'\n",
    "\n",
    "sensitivity_ed"
   ]
  },
  {
   "cell_type": "code",
   "execution_count": 16,
   "metadata": {},
   "outputs": [],
   "source": [
    "pyirf_file = '../../pyirf_eventdisplay_cuts2.fits.gz'"
   ]
  },
  {
   "cell_type": "markdown",
   "metadata": {},
   "source": [
    "## PyIRF\n",
    "[back to top](#Table-of-contents)"
   ]
  },
  {
   "cell_type": "code",
   "execution_count": 17,
   "metadata": {},
   "outputs": [
    {
     "data": {
      "text/html": [
       "<i>QTable length=21</i>\n",
       "<table id=\"table139897205667472\" class=\"table-striped table-bordered table-condensed\">\n",
       "<thead><tr><th>reco_energy_low</th><th>reco_energy_high</th><th>reco_energy_center</th><th>n_signal_weighted</th><th>n_background_weighted</th><th>significance</th><th>n_electron_weighted</th><th>n_proton_weighted</th><th>relative_sensitivity</th><th>flux_sensitivity</th><th>n_over_b</th></tr></thead>\n",
       "<thead><tr><th>TeV</th><th>TeV</th><th>TeV</th><th></th><th></th><th></th><th></th><th></th><th></th><th>erg / (cm2 s)</th><th></th></tr></thead>\n",
       "<thead><tr><th>float64</th><th>float64</th><th>float64</th><th>float64</th><th>float64</th><th>float64</th><th>float64</th><th>float64</th><th>float64</th><th>float64</th><th>float64</th></tr></thead>\n",
       "<tr><td>0.0126</td><td>0.02</td><td>0.0163</td><td>430.5</td><td>30053.1</td><td>5.0</td><td>1106.0</td><td>28947.1</td><td>0.08</td><td>4.65e-11</td><td>0.072</td></tr>\n",
       "<tr><td>0.02</td><td>0.0316</td><td>0.0258</td><td>3663.6</td><td>366361.9</td><td>12.2</td><td>30569.8</td><td>335792.1</td><td>0.05</td><td>2.18e-11</td><td>0.050</td></tr>\n",
       "<tr><td>0.0316</td><td>0.0501</td><td>0.0409</td><td>2262.8</td><td>226277.7</td><td>9.6</td><td>30385.6</td><td>195892.1</td><td>0.025</td><td>8.11e-12</td><td>0.050</td></tr>\n",
       "<tr><td>0.0501</td><td>0.0794</td><td>0.0648</td><td>584.2</td><td>55743.2</td><td>5.0</td><td>11836.1</td><td>43907.1</td><td>0.0079</td><td>1.97e-12</td><td>0.052</td></tr>\n",
       "<tr><td>0.0794</td><td>0.126</td><td>0.103</td><td>450.0</td><td>32883.1</td><td>5.0</td><td>9826.3</td><td>23056.8</td><td>0.0048</td><td>8.91e-13</td><td>0.068</td></tr>\n",
       "<tr><td>0.126</td><td>0.2</td><td>0.163</td><td>238.1</td><td>8992.4</td><td>5.0</td><td>3974.5</td><td>5017.9</td><td>0.0036</td><td>5e-13</td><td>0.132</td></tr>\n",
       "<tr><td>0.2</td><td>0.316</td><td>0.258</td><td>131.5</td><td>2634.3</td><td>5.0</td><td>1519.1</td><td>1115.2</td><td>0.0029</td><td>3e-13</td><td>0.250</td></tr>\n",
       "<tr><td>0.316</td><td>0.501</td><td>0.409</td><td>79.6</td><td>908.6</td><td>5.0</td><td>563.9</td><td>344.7</td><td>0.0026</td><td>2.06e-13</td><td>0.438</td></tr>\n",
       "<tr><td>0.501</td><td>0.794</td><td>0.648</td><td>50.2</td><td>328.5</td><td>5.0</td><td>211.3</td><td>117.1</td><td>0.0024</td><td>1.44e-13</td><td>0.763</td></tr>\n",
       "<tr><td>0.794</td><td>1.26</td><td>1.03</td><td>33.3</td><td>126.7</td><td>5.0</td><td>82.3</td><td>44.4</td><td>0.0022</td><td>1e-13</td><td>1.314</td></tr>\n",
       "<tr><td>1.26</td><td>2</td><td>1.63</td><td>27.8</td><td>81.1</td><td>5.0</td><td>44.3</td><td>36.7</td><td>0.0024</td><td>8.21e-14</td><td>1.714</td></tr>\n",
       "<tr><td>2</td><td>3.16</td><td>2.58</td><td>23.6</td><td>53.2</td><td>5.0</td><td>24.4</td><td>28.9</td><td>0.0028</td><td>7.05e-14</td><td>2.216</td></tr>\n",
       "<tr><td>3.16</td><td>5.01</td><td>4.09</td><td>19.9</td><td>33.5</td><td>5.0</td><td>10.3</td><td>23.3</td><td>0.0035</td><td>6.56e-14</td><td>2.966</td></tr>\n",
       "<tr><td>5.01</td><td>7.94</td><td>6.48</td><td>17.8</td><td>24.2</td><td>5.0</td><td>4.4</td><td>19.7</td><td>0.0052</td><td>7.42e-14</td><td>3.675</td></tr>\n",
       "<tr><td>7.94</td><td>12.6</td><td>10.3</td><td>11.8</td><td>6.0</td><td>5.0</td><td>1.7</td><td>4.3</td><td>0.0061</td><td>6.58e-14</td><td>9.792</td></tr>\n",
       "<tr><td>12.6</td><td>20</td><td>16.3</td><td>10.6</td><td>3.7</td><td>5.0</td><td>0.6</td><td>3.1</td><td>0.011</td><td>8.46e-14</td><td>14.114</td></tr>\n",
       "<tr><td>20</td><td>31.6</td><td>25.8</td><td>10.0</td><td>0.7</td><td>5.6</td><td>0.3</td><td>0.4</td><td>0.019</td><td>1.18e-13</td><td>74.090</td></tr>\n",
       "<tr><td>31.6</td><td>50.1</td><td>40.9</td><td>10.0</td><td>0.3</td><td>5.8</td><td>0.1</td><td>0.3</td><td>0.04</td><td>1.83e-13</td><td>143.569</td></tr>\n",
       "<tr><td>50.1</td><td>79.4</td><td>64.8</td><td>10.0</td><td>0.0</td><td>6.0</td><td>0.0</td><td>0.0</td><td>0.082</td><td>2.79e-13</td><td>1519.712</td></tr>\n",
       "<tr><td>79.4</td><td>126</td><td>103</td><td>10.0</td><td>0.0</td><td>6.0</td><td>0.0</td><td>0.0</td><td>0.17</td><td>4.37e-13</td><td>5278.626</td></tr>\n",
       "<tr><td>126</td><td>200</td><td>163</td><td>10.0</td><td>0.0</td><td>6.0</td><td>0.0</td><td>0.0</td><td>0.35</td><td>6.74e-13</td><td>20574.053</td></tr>\n",
       "</table>"
      ],
      "text/plain": [
       "<QTable length=21>\n",
       "reco_energy_low reco_energy_high ... flux_sensitivity  n_over_b\n",
       "      TeV             TeV        ...  erg / (cm2 s)            \n",
       "    float64         float64      ...     float64       float64 \n",
       "--------------- ---------------- ... ---------------- ---------\n",
       "         0.0126             0.02 ...         4.65e-11     0.072\n",
       "           0.02           0.0316 ...         2.18e-11     0.050\n",
       "         0.0316           0.0501 ...         8.11e-12     0.050\n",
       "         0.0501           0.0794 ...         1.97e-12     0.052\n",
       "         0.0794            0.126 ...         8.91e-13     0.068\n",
       "          0.126              0.2 ...            5e-13     0.132\n",
       "            0.2            0.316 ...            3e-13     0.250\n",
       "          0.316            0.501 ...         2.06e-13     0.438\n",
       "          0.501            0.794 ...         1.44e-13     0.763\n",
       "          0.794             1.26 ...            1e-13     1.314\n",
       "           1.26                2 ...         8.21e-14     1.714\n",
       "              2             3.16 ...         7.05e-14     2.216\n",
       "           3.16             5.01 ...         6.56e-14     2.966\n",
       "           5.01             7.94 ...         7.42e-14     3.675\n",
       "           7.94             12.6 ...         6.58e-14     9.792\n",
       "           12.6               20 ...         8.46e-14    14.114\n",
       "             20             31.6 ...         1.18e-13    74.090\n",
       "           31.6             50.1 ...         1.83e-13   143.569\n",
       "           50.1             79.4 ...         2.79e-13  1519.712\n",
       "           79.4              126 ...         4.37e-13  5278.626\n",
       "            126              200 ...         6.74e-13 20574.053"
      ]
     },
     "execution_count": 17,
     "metadata": {},
     "output_type": "execute_result"
    }
   ],
   "source": [
    "# [1:-1] removes under/overflow bins\n",
    "sensitivity = QTable.read(pyirf_file, hdu='SENSITIVITY')[1:-1]\n",
    "sensitivity.remove_columns(['n_signal', 'n_background', 'n_electron', 'n_proton'])\n",
    "\n",
    "# scale by E² and convert to same unit as ED\n",
    "sensitivity['flux_sensitivity'] = (sensitivity['reco_energy_center']**2 * sensitivity['flux_sensitivity']).to(u.Unit('erg cm-2 s-1'))\n",
    "\n",
    "# make it print nice\n",
    "sensitivity['reco_energy_low'].info.format = '.3g'\n",
    "sensitivity['reco_energy_high'].info.format = '.3g'\n",
    "sensitivity['reco_energy_center'].info.format = '.3g'\n",
    "sensitivity['relative_sensitivity'].info.format = '.2g'\n",
    "sensitivity['flux_sensitivity'].info.format = '.3g'\n",
    "\n",
    "for k in filter(lambda k: k.startswith('n_'), sensitivity.colnames):\n",
    "    sensitivity[k].info.format = '.1f'\n",
    "\n",
    "    \n",
    "sensitivity['n_over_b'].info.format = '.3f'\n",
    "sensitivity"
   ]
  },
  {
   "cell_type": "code",
   "execution_count": 24,
   "metadata": {},
   "outputs": [
    {
     "data": {
      "text/html": [
       "<i>QTable length=21</i>\n",
       "<table id=\"table139897195661392\" class=\"table-striped table-bordered table-condensed\">\n",
       "<thead><tr><th>n_background_weighted_ed</th><th>n_background_weighted_pyirf</th><th>n_proton_weighted_ed</th><th>n_proton_weighted_pyirf</th><th>relative_sensitivity_ed</th><th>relative_sensitivity_pyirf</th></tr></thead>\n",
       "<thead><tr><th>float32</th><th>float64</th><th>float32</th><th>float64</th><th>float32</th><th>float64</th></tr></thead>\n",
       "<tr><td>12822.5</td><td>30053.1</td><td>11477.6</td><td>28947.1</td><td>0.085</td><td>0.08</td></tr>\n",
       "<tr><td>96805.8</td><td>366361.9</td><td>77542.4</td><td>335792.1</td><td>0.057</td><td>0.05</td></tr>\n",
       "<tr><td>46432.7</td><td>226277.7</td><td>34612.5</td><td>195892.1</td><td>0.023</td><td>0.025</td></tr>\n",
       "<tr><td>11760.8</td><td>55743.2</td><td>8053.7</td><td>43907.1</td><td>0.0073</td><td>0.0079</td></tr>\n",
       "<tr><td>5884.3</td><td>32883.1</td><td>3391.1</td><td>23056.8</td><td>0.0043</td><td>0.0048</td></tr>\n",
       "<tr><td>1762.8</td><td>8992.4</td><td>847.7</td><td>5017.9</td><td>0.0034</td><td>0.0036</td></tr>\n",
       "<tr><td>548.6</td><td>2634.3</td><td>197.0</td><td>1115.2</td><td>0.0028</td><td>0.0029</td></tr>\n",
       "<tr><td>193.1</td><td>908.6</td><td>59.5</td><td>344.7</td><td>0.0025</td><td>0.0026</td></tr>\n",
       "<tr><td>71.6</td><td>328.5</td><td>21.2</td><td>117.1</td><td>0.0024</td><td>0.0024</td></tr>\n",
       "<tr><td>28.1</td><td>126.7</td><td>8.9</td><td>44.4</td><td>0.0023</td><td>0.0022</td></tr>\n",
       "<tr><td>17.2</td><td>81.1</td><td>7.7</td><td>36.7</td><td>0.0024</td><td>0.0024</td></tr>\n",
       "<tr><td>10.9</td><td>53.2</td><td>6.4</td><td>28.9</td><td>0.0028</td><td>0.0028</td></tr>\n",
       "<tr><td>6.2</td><td>33.5</td><td>4.7</td><td>23.3</td><td>0.0033</td><td>0.0035</td></tr>\n",
       "<tr><td>4.3</td><td>24.2</td><td>3.8</td><td>19.7</td><td>0.005</td><td>0.0052</td></tr>\n",
       "<tr><td>1.0</td><td>6.0</td><td>0.9</td><td>4.3</td><td>0.0059</td><td>0.0061</td></tr>\n",
       "<tr><td>0.7</td><td>3.7</td><td>0.6</td><td>3.1</td><td>0.01</td><td>0.011</td></tr>\n",
       "<tr><td>0.1</td><td>0.7</td><td>0.1</td><td>0.4</td><td>0.02</td><td>0.019</td></tr>\n",
       "<tr><td>0.1</td><td>0.3</td><td>0.1</td><td>0.3</td><td>0.041</td><td>0.04</td></tr>\n",
       "<tr><td>0.0</td><td>0.0</td><td>0.0</td><td>0.0</td><td>0.083</td><td>0.082</td></tr>\n",
       "<tr><td>0.0</td><td>0.0</td><td>0.0</td><td>0.0</td><td>0.17</td><td>0.17</td></tr>\n",
       "<tr><td>0.0</td><td>0.0</td><td>0.0</td><td>0.0</td><td>0.36</td><td>0.35</td></tr>\n",
       "</table>"
      ],
      "text/plain": [
       "<QTable length=21>\n",
       "n_background_weighted_ed ... relative_sensitivity_pyirf\n",
       "        float32          ...          float64          \n",
       "------------------------ ... --------------------------\n",
       "                 12822.5 ...                       0.08\n",
       "                 96805.8 ...                       0.05\n",
       "                 46432.7 ...                      0.025\n",
       "                 11760.8 ...                     0.0079\n",
       "                  5884.3 ...                     0.0048\n",
       "                  1762.8 ...                     0.0036\n",
       "                   548.6 ...                     0.0029\n",
       "                   193.1 ...                     0.0026\n",
       "                    71.6 ...                     0.0024\n",
       "                    28.1 ...                     0.0022\n",
       "                    17.2 ...                     0.0024\n",
       "                    10.9 ...                     0.0028\n",
       "                     6.2 ...                     0.0035\n",
       "                     4.3 ...                     0.0052\n",
       "                     1.0 ...                     0.0061\n",
       "                     0.7 ...                      0.011\n",
       "                     0.1 ...                      0.019\n",
       "                     0.1 ...                       0.04\n",
       "                     0.0 ...                      0.082\n",
       "                     0.0 ...                       0.17\n",
       "                     0.0 ...                       0.35"
      ]
     },
     "execution_count": 24,
     "metadata": {},
     "output_type": "execute_result"
    }
   ],
   "source": [
    "merged = QTable()\n",
    "\n",
    "for col in ['n_background_weighted', 'n_proton_weighted', 'relative_sensitivity']:\n",
    "    merged[col + '_ed'] = sensitivity_ed[col]\n",
    "    merged[col + '_pyirf'] = sensitivity[col]\n",
    "    # merged[col + '_ratio'] = sensitivity[col] / sensitivity_ed[col]\n",
    "    #merged[col + '_ratio'].info.format = '.4f'\n",
    "\n",
    "merged"
   ]
  },
  {
   "cell_type": "markdown",
   "metadata": {},
   "source": [
    "### Event Counts"
   ]
  },
  {
   "cell_type": "code",
   "execution_count": 19,
   "metadata": {},
   "outputs": [
    {
     "data": {
      "text/plain": [
       "<Figure size 864x576 with 0 Axes>"
      ]
     },
     "metadata": {},
     "output_type": "display_data"
    },
    {
     "data": {
      "image/png": "[encoded data removed]",
      "text/plain": [
       "<Figure size 648x432 with 2 Axes>"
      ]
     },
     "metadata": {
      "needs_background": "light"
     },
     "output_type": "display_data"
    }
   ],
   "source": [
    "plt.figure(figsize=(12,8))\n",
    "\n",
    "# Get data from event display file\n",
    "h = irf_eventdisplay[\"DiffSens\"]\n",
    "bins = 10**h.edges\n",
    "x = 0.5 * (bins[:-1] + bins[1:])\n",
    "width = np.diff(bins)\n",
    "y = h.values\n",
    "yerr = np.sqrt(h.variances)\n",
    "\n",
    "fig, (ax_sens, ax_ratio) = plt.subplots(\n",
    "    2, 1,\n",
    "    gridspec_kw={'height_ratios': [4, 1]},\n",
    "    sharex=True,\n",
    ")\n",
    "\n",
    "ax_sens.errorbar(\n",
    "    x,\n",
    "    y, \n",
    "    xerr=width/2,\n",
    "    yerr=yerr,\n",
    "    label=\"EventDisplay\",\n",
    "    ls=''\n",
    ")\n",
    "\n",
    "unit = u.Unit('erg cm-2 s-1')\n",
    "\n",
    "\n",
    "e = sensitivity['reco_energy_center']\n",
    "w = (sensitivity['reco_energy_high'] - sensitivity['reco_energy_low'])\n",
    "s = sensitivity['flux_sensitivity']\n",
    "\n",
    "\n",
    "ax_sens.errorbar(\n",
    "    e.to_value(u.TeV),\n",
    "    s.to_value(unit),\n",
    "    xerr=w.to_value(u.TeV) / 2,\n",
    "    ls='',\n",
    "    label='pyirf'\n",
    ")\n",
    "\n",
    "ax_ratio.errorbar(\n",
    "    e.to_value(u.TeV), s.to_value(unit) / y,\n",
    "    xerr=w.to_value(u.TeV)/2,\n",
    "    ls=''\n",
    ")\n",
    "ax_ratio.set_yscale('log')\n",
    "ax_ratio.set_xlabel(\"Reconstructed energy / TeV\")\n",
    "ax_ratio.set_ylabel('pyirf / eventdisplay')\n",
    "ax_ratio.grid()\n",
    "ax_ratio.yaxis.set_major_formatter(ScalarFormatter())\n",
    "\n",
    "ax_ratio.set_ylim(0.2, 5.0)\n",
    "ax_ratio.set_yticks([0.2, 0.5, 1, 2, 5])\n",
    "ax_ratio.set_yticks([], minor=True)\n",
    "\n",
    "# Style settings\n",
    "ax_sens.set_title('Minimal Flux Needed for 5σ Detection in 50 hours')\n",
    "ax_sens.set_xscale(\"log\")\n",
    "ax_sens.set_yscale(\"log\")\n",
    "ax_sens.set_ylabel(rf\"$(E^2 \\cdot \\mathrm{{Flux Sensitivity}}) /$ ({unit.to_string('latex')})\")\n",
    "\n",
    "ax_sens.grid(which=\"both\")\n",
    "ax_sens.legend()\n",
    "fig.tight_layout(h_pad=0)\n",
    "\n",
    "None # to remove clutter by mpl objects"
   ]
  },
  {
   "cell_type": "code",
   "execution_count": null,
   "metadata": {},
   "outputs": [],
   "source": []
  },
  {
   "cell_type": "code",
   "execution_count": null,
   "metadata": {},
   "outputs": [],
   "source": []
  },
  {
   "cell_type": "code",
   "execution_count": null,
   "metadata": {},
   "outputs": [],
   "source": []
  },
  {
   "cell_type": "code",
   "execution_count": null,
   "metadata": {},
   "outputs": [],
   "source": []
  },
  {
   "cell_type": "code",
   "execution_count": null,
   "metadata": {},
   "outputs": [],
   "source": []
  }
 ],
 "metadata": {
  "kernelspec": {
   "display_name": "Python 3",
   "language": "python",
   "name": "python3"
  },
  "language_info": {
   "codemirror_mode": {
    "name": "ipython",
    "version": 3
   },
   "file_extension": ".py",
   "mimetype": "text/x-python",
   "name": "python",
   "nbconvert_exporter": "python",
   "pygments_lexer": "ipython3",
   "version": "3.7.9"
  }
 },
 "nbformat": 4,
 "nbformat_minor": 4
}
