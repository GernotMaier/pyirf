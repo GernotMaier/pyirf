{
 "cells": [
  {
   "cell_type": "code",
   "execution_count": 1,
   "metadata": {},
   "outputs": [
    {
     "data": {
      "text/html": [
       "<script>jQuery(function() {if (jQuery(\"body.notebook_app\").length == 0) { jQuery(\".input_area\").toggle(); jQuery(\".prompt\").toggle();}});</script>"
      ]
     },
     "metadata": {},
     "output_type": "display_data"
    }
   ],
   "source": [
    "# Remove input cells at runtime (nbsphinx)\n",
    "import IPython.core.display as d\n",
    "d.display_html('<script>jQuery(function() {if (jQuery(\"body.notebook_app\").length == 0) { jQuery(\".input_area\").toggle(); jQuery(\".prompt\").toggle();}});</script>', raw=True)"
   ]
  },
  {
   "cell_type": "markdown",
   "metadata": {},
   "source": [
    "# Comparison with EventDisplay"
   ]
  },
  {
   "cell_type": "markdown",
   "metadata": {},
   "source": [
    "**Purpose of this notebook:**\n",
    "\n",
    "- Read DL2 files from _EventDisplay_ in FITS format\n",
    "\n",
    "- Read _pyirf_ output\n",
    "\n",
    "- Compare the outputs\n",
    "\n",
    "**Notes:**\n",
    "\n",
    "The following results correspond to:\n",
    "\n",
    "- Paranal site\n",
    "- Zd 20 deg, Az 180 deg\n",
    "- 50 h observation time\n",
    "\n",
    "**Resources:**\n",
    "\n",
    "_EventDisplay_ DL2 data, https://forge.in2p3.fr/projects/cta_analysis-and-simulations/wiki/Eventdisplay_Prod3b_DL2_Lists\n",
    "\n",
    "**TO-DOs:**\n",
    "\n",
    "- ..."
   ]
  },
  {
   "cell_type": "markdown",
   "metadata": {},
   "source": [
    "## Table of contents\n",
    "\n",
    "* [IRFs](#IRFs)\n",
    "    - [Effective area](#Effective-area)\n",
    "    - [Angular resolution](#Angular-resolution)\n",
    "    - [Energy resolution](#Energy-resolution)\n",
    "    - [Background rate](#Background-rate)\n",
    "* [Differential sensitivity](#Differential-sensitivity)"
   ]
  },
  {
   "cell_type": "markdown",
   "metadata": {
    "nbsphinx": "hidden"
   },
   "source": [
    "## Imports"
   ]
  },
  {
   "cell_type": "code",
   "execution_count": 2,
   "metadata": {},
   "outputs": [],
   "source": [
    "import numpy as np\n",
    "import uproot\n",
    "from astropy.io import fits\n",
    "import matplotlib.pyplot as plt"
   ]
  },
  {
   "cell_type": "code",
   "execution_count": 3,
   "metadata": {},
   "outputs": [],
   "source": [
    "import astropy.units as u\n",
    "from astropy.coordinates import Angle\n",
    "from gammapy.maps import MapAxis\n",
    "from gammapy.irf import EffectiveAreaTable2D, EnergyDispersion2D, BgRateTable"
   ]
  },
  {
   "cell_type": "markdown",
   "metadata": {
    "nbsphinx": "hidden"
   },
   "source": [
    "## Definitions of classes and functions"
   ]
  },
  {
   "cell_type": "markdown",
   "metadata": {
    "nbsphinx": "hidden"
   },
   "source": [
    "If judged useful, these should be moved to pyirf!"
   ]
  },
  {
   "cell_type": "markdown",
   "metadata": {
    "nbsphinx": "hidden"
   },
   "source": [
    "## Input data"
   ]
  },
  {
   "cell_type": "markdown",
   "metadata": {
    "nbsphinx": "hidden"
   },
   "source": [
    "### _EventDisplay_"
   ]
  },
  {
   "cell_type": "markdown",
   "metadata": {
    "nbsphinx": "hidden"
   },
   "source": [
    "The input data provided by _EventDisplay_ is stored in _ROOT_ format, so _uproot_ is used to transform it into _numpy_ objects. "
   ]
  },
  {
   "cell_type": "code",
   "execution_count": 4,
   "metadata": {
    "tags": [
     "parameters"
    ]
   },
   "outputs": [],
   "source": [
    "# Path of the required input data in the user's local setup\n",
    "# Please, empty these variables before pushing to the repo!\n",
    "indir_EventDisplay = \"/Users/michele/Applications/ctasoft/tests/pyirf/EventDisplay/IRFs/data/WPPhys201890925LongObs\"\n",
    "infile_EventDisplay = \"DESY.d20180113.V3.ID0_180degNIM2LST4MST4SST4SCMST4.prod3b-paranal20degs05b-NN.S.3HB9-FD.180000s.root\"\n",
    "\n",
    "input_EventDisplay = uproot.open(f'{indir_EventDisplay}/{infile_EventDisplay}')"
   ]
  },
  {
   "cell_type": "code",
   "execution_count": null,
   "metadata": {},
   "outputs": [],
   "source": [
    "# Contents of the ROOT file\n",
    "# input_EventDisplay.keys()"
   ]
  },
  {
   "cell_type": "markdown",
   "metadata": {
    "nbsphinx": "hidden"
   },
   "source": [
    "### Setup of output data"
   ]
  },
  {
   "cell_type": "markdown",
   "metadata": {
    "nbsphinx": "hidden"
   },
   "source": [
    "## _pyirf_"
   ]
  },
  {
   "cell_type": "markdown",
   "metadata": {},
   "source": [
    "The following is the current IRF + sensititivy output FITS format provided by this software."
   ]
  },
  {
   "cell_type": "code",
   "execution_count": 5,
   "metadata": {
    "tags": [
     "parameters"
    ]
   },
   "outputs": [
    {
     "name": "stdout",
     "output_type": "stream",
     "text": [
      "Filename: /Users/michele/Applications/ctasoft/tests/pyirf/EventDisplay/from_pyirf/irf_EventDisplay_Time50h//irf.fits.gz\n",
      "No.    Name      Ver    Type      Cards   Dimensions   Format\n",
      "  0  PRIMARY       1 PrimaryHDU       5   (100,)   float64   \n",
      "  1  EFFECTIVE AREA    1 BinTableHDU     31   1R x 5C   [42D, 42D, 2D, 2D, 84D]   \n",
      "  2  POINT SPREAD FUNCTION    1 BinTableHDU     18   21R x 3C   [E, E, E]   \n",
      "  3  ENERGY DISPERSION    1 BinTableHDU     37   1R x 7C   [60D, 60D, 300D, 300D, 2D, 2D, 36000D]   \n",
      "  4  BACKGROUND    1 BinTableHDU     18   21R x 3C   [E, E, E]   \n",
      "  5  EFFECTIVE AREA    1 BinTableHDU     31   1R x 5C   [42D, 42D, 2D, 2D, 84D]   \n",
      "  6  EFFECTIVE AREA    1 BinTableHDU     31   1R x 5C   [42D, 42D, 2D, 2D, 84D]   \n",
      "  7  EFFECTIVE AREA    1 BinTableHDU     31   1R x 5C   [42D, 42D, 2D, 2D, 84D]   \n",
      "  8  SENSITIVITY    1 BinTableHDU     22   21R x 5C   [E, E, E, E, E]   \n"
     ]
    }
   ],
   "source": [
    "indir_pyirf = \"/Users/michele/Applications/ctasoft/tests/pyirf/EventDisplay/from_pyirf/irf_EventDisplay_Time50h/\"\n",
    "infile_pyirf = \"irf.fits.gz\"\n",
    "\n",
    "hdul_pyirf = fits.open(f'{indir_pyirf}/{infile_pyirf}') # will be closed at the end of the notebook\n",
    "\n",
    "# Contents of the FITS file\n",
    "hdul_pyirf.info()"
   ]
  },
  {
   "cell_type": "markdown",
   "metadata": {
    "nbsphinx": "hidden"
   },
   "source": [
    "### Setup of output data"
   ]
  },
  {
   "cell_type": "markdown",
   "metadata": {
    "nbsphinx": "hidden"
   },
   "source": [
    "It is possible to extract data from pyirf FITS file with different approaches, e.g.\n",
    "\n",
    "- using *gammapy*, by reading the file HDUs into the appropriate IRF class like `EffectiveAreaTable2D` or `EnergyDispersion2D`\n",
    "- opening the FITS file manually and reading data through the *astropy.fits* module as e.g. `BinTableHDU`\n",
    "\n",
    "The *gammapy* solution seems to be cleaner, but it means that we depend on this specific science tool for plotting. This is not bad per-se, but we could need a more elastic approach for now, given that e.g. we do not yet work on full-enclosure IRFs and the offset handling in *gammapy* is hard-coded in its plotting methods.\n",
    "\n",
    "To produce the following plots I use a mix of these two approaches as example, but it is possible to open and plot data by using consistently each of the two."
   ]
  },
  {
   "cell_type": "code",
   "execution_count": 6,
   "metadata": {},
   "outputs": [],
   "source": [
    "# Effective area\n",
    "\n",
    "# Approach using gammapy\n",
    "\n",
    "#aeff2D = EffectiveAreaTable2D.read(f'{indir_pyirf}/{infile_pyirf}', hdu=1)\n",
    "#print(aeff2D)\n",
    "#aeff=aeff2D.to_effective_area_table(offset=Angle('1d'), energy=energy * u.TeV)\n",
    "#aeff.plot()\n",
    "#plt.grid(which=\"both\")\n",
    "#plt.yscale(\"log\")\n",
    "\n",
    "# Manual approach\n",
    "aeff_pyirf = hdul_pyirf[1]\n",
    "\n",
    "aeff_pyirf_ENERG_LO = aeff_pyirf.data[0][0]\n",
    "aeff_pyirf_EFFAREA  = aeff_pyirf.data[0][4][1]*1.e4 # there seems to be a 10**4 missing...maybe a bug in pyirf?"
   ]
  },
  {
   "cell_type": "code",
   "execution_count": 7,
   "metadata": {},
   "outputs": [],
   "source": [
    "# Angular resolution\n",
    "\n",
    "# At the moment the format provided by pyirf is not compatible with GADF\n",
    "# https://gamma-astro-data-formats.readthedocs.io/en/latest/irfs/full_enclosure/psf/index.html\n",
    "\n",
    "psf_pyirf = hdul_pyirf[2]"
   ]
  },
  {
   "cell_type": "code",
   "execution_count": 8,
   "metadata": {},
   "outputs": [
    {
     "name": "stderr",
     "output_type": "stream",
     "text": [
      "/Users/michele/Applications/anaconda3/envs/pyirf/lib/python3.7/site-packages/astropy/units/quantity.py:464: RuntimeWarning: invalid value encountered in true_divide\n",
      "  result = super().__array_ufunc__(function, method, *arrays, **kwargs)\n"
     ]
    }
   ],
   "source": [
    "# Energy dispersion\n",
    "\n",
    "# here I open manually, but I use gammapy.irf.EnergyDispersion2D to get the energy resolution\n",
    "\n",
    "eDisp_pyirf = hdul_pyirf[3]\n",
    "\n",
    "eDisp_pyirf_ENERG_LO = eDisp_pyirf.data[0][0]\n",
    "eDisp_pyirf_ENERG_HI = eDisp_pyirf.data[0][1]\n",
    "\n",
    "edisp2d_pyirf = EnergyDispersion2D.read(f'{indir_pyirf}/{infile_pyirf}', hdu=\"ENERGY DISPERSION\")\n",
    "edisp_pyirf = edisp2d_pyirf.to_energy_dispersion(offset=Angle('1d'), e_reco=eDisp_pyirf_ENERG_LO * u.TeV, e_true=eDisp_pyirf_ENERG_LO * u.TeV)\n",
    "\n",
    "edisp_true_pyirf = np.asarray([(eDisp_pyirf_ENERG_HI[i]-eDisp_pyirf_ENERG_LO[i])/2. for i in range(len(eDisp_pyirf_ENERG_LO))])\n",
    "\n",
    "resolution_pyirf = []\n",
    "for e_true in edisp_true_pyirf:\n",
    "    resolution_pyirf.append(edisp_pyirf.get_resolution(e_true * u.TeV))\n",
    "resolution_pyirf = np.asarray(resolution_pyirf)"
   ]
  },
  {
   "cell_type": "code",
   "execution_count": 9,
   "metadata": {},
   "outputs": [],
   "source": [
    "# Background rate\n",
    "\n",
    "background_pyirf = hdul_pyirf[4]"
   ]
  },
  {
   "cell_type": "code",
   "execution_count": 10,
   "metadata": {},
   "outputs": [],
   "source": [
    "# Differential sensitivity\n",
    "\n",
    "sensitivity_pyirf = hdul_pyirf[8]"
   ]
  },
  {
   "cell_type": "markdown",
   "metadata": {
    "nbsphinx": "hidden"
   },
   "source": [
    "## Comparison"
   ]
  },
  {
   "cell_type": "markdown",
   "metadata": {},
   "source": [
    "For the moment we do not require to replicate perfectly the EventDisplay output, because this depends also on:\n",
    "\n",
    "- the configuration in config.yaml,\n",
    "- the specific cuts optiization performed by EventDisplay (which has not yet been replicated in pyirf)\n",
    "\n",
    "This comparison is here to make sure that we can produce a reliable and stable output and use it to proceed with the development.\n",
    "\n",
    "A more detailed and complete version of this notebook will be provided with an official DL3 benchmarking."
   ]
  },
  {
   "cell_type": "markdown",
   "metadata": {},
   "source": [
    "### IRFs\n",
    "[back to top](#Table-of-contents)"
   ]
  },
  {
   "cell_type": "markdown",
   "metadata": {},
   "source": [
    "#### Effective area\n",
    "[back to top](#Table-of-contents)"
   ]
  },
  {
   "cell_type": "code",
   "execution_count": 11,
   "metadata": {},
   "outputs": [
    {
     "data": {
      "image/png": "[encoded data removed]",
      "text/plain": [
       "<Figure size 576x432 with 1 Axes>"
      ]
     },
     "metadata": {
      "needs_background": "light"
     },
     "output_type": "display_data"
    }
   ],
   "source": [
    "zoom = 2\n",
    "plt.figure(figsize=(zoom*4,zoom*3))\n",
    "\n",
    "# Data from EventDisplay\n",
    "h = input_EventDisplay[\"EffectiveAreaEtrue\"]\n",
    "x = np.asarray([(10**x_bin[1]+10**x_bin[0])/2. for x_bin in h.allbins[3:-1]])\n",
    "xerr = np.asarray([(10**x_bin[1]-10**x_bin[0])/2 for x_bin in h.allbins[3:-1]])\n",
    "y = h.allvalues[3:-1]\n",
    "yerr = h.allvariances[3:-1]\n",
    "\n",
    "# Style settings\n",
    "plt.xlim(1.e-2, 2.e2)\n",
    "plt.ylim(1.e3, 1.e7)\n",
    "plt.xscale(\"log\")\n",
    "plt.yscale(\"log\")\n",
    "plt.xlabel(\"True energy [TeV]\")\n",
    "plt.ylabel(\"Effective collection area [cm^2]\")\n",
    "plt.grid(which=\"both\")\n",
    "\n",
    "# Plot function\n",
    "plt.errorbar(x, y, xerr=xerr, yerr=None, fmt=\"o\", label=\"EventDisplay\")\n",
    "plt.loglog(aeff_pyirf_ENERG_LO, aeff_pyirf_EFFAREA, drawstyle='steps-post', label=\"pyirf\")\n",
    "\n",
    "plt.legend(loc=4)\n",
    "plt.show()"
   ]
  },
  {
   "cell_type": "markdown",
   "metadata": {},
   "source": [
    "#### Angular resolution\n",
    "[back to top](#Table-of-contents)"
   ]
  },
  {
   "cell_type": "code",
   "execution_count": 13,
   "metadata": {},
   "outputs": [
    {
     "data": {
      "image/png": "[encoded data removed]",
      "text/plain": [
       "<Figure size 576x432 with 1 Axes>"
      ]
     },
     "metadata": {
      "needs_background": "light"
     },
     "output_type": "display_data"
    }
   ],
   "source": [
    "zoom = 2\n",
    "plt.figure(figsize=(zoom*4,zoom*3))\n",
    "\n",
    "# Data from EventDisplay\n",
    "h = input_EventDisplay[\"AngRes\"]\n",
    "x = np.asarray([(10**x_bin[1]+10**x_bin[0])/2. for x_bin in h.bins])\n",
    "xerr = np.asarray([(10**x_bin[1]-10**x_bin[0])/2 for x_bin in h.bins])\n",
    "y = h.values\n",
    "yerr = h.variances\n",
    "\n",
    "# Style settings\n",
    "plt.xlim(1.e-2, 2.e2)\n",
    "plt.ylim(2.e-2, 1)\n",
    "plt.xscale(\"log\")\n",
    "plt.xlabel(\"True energy [TeV]\")\n",
    "plt.ylabel(\"Angular resolution [deg]\")\n",
    "plt.grid(which=\"both\")\n",
    "\n",
    "# Plot function\n",
    "plt.errorbar(x, y, xerr=xerr, yerr=yerr, fmt=\"o\", label=\"EventDisplay\")\n",
    "\n",
    "plt.semilogy(psf_pyirf.columns[\"ENERG_LO\"].array,\n",
    "             psf_pyirf.columns[\"PSF68\"].array,\n",
    "             drawstyle='steps-post',\n",
    "             label=\"pyirf\")\n",
    "\n",
    "plt.legend(loc=\"best\")\n",
    "plt.show()"
   ]
  },
  {
   "cell_type": "markdown",
   "metadata": {},
   "source": [
    "#### Energy resolution\n",
    "[back to top](#Table-of-contents)"
   ]
  },
  {
   "cell_type": "code",
   "execution_count": 14,
   "metadata": {},
   "outputs": [
    {
     "data": {
      "image/png": "[encoded data removed]",
      "text/plain": [
       "<Figure size 576x432 with 1 Axes>"
      ]
     },
     "metadata": {
      "needs_background": "light"
     },
     "output_type": "display_data"
    }
   ],
   "source": [
    "zoom = 2\n",
    "plt.figure(figsize=(zoom*4,zoom*3))\n",
    "\n",
    "# Data from EventDisplay\n",
    "h = input_EventDisplay[\"ERes\"]\n",
    "x = np.asarray([(10**x_bin[1]+10**x_bin[0])/2. for x_bin in h.bins[1:]])\n",
    "xerr = np.asarray([(10**x_bin[1]-10**x_bin[0])/2 for x_bin in h.bins[1:]])\n",
    "y = h.values[1:]\n",
    "yerr = h.variances[1:]\n",
    "\n",
    "# Style settings\n",
    "plt.xlim(1.e-2, 2.e2)\n",
    "plt.ylim(0., 0.3)\n",
    "plt.xscale(\"log\")\n",
    "#plt.yscale(\"log\")\n",
    "plt.xlabel(\"Reconstructed energy [TeV]\")\n",
    "plt.ylabel(\"Energy resolution\")\n",
    "plt.grid(which=\"both\")\n",
    "\n",
    "# Plot function\n",
    "plt.errorbar(x, y, xerr=xerr, yerr=yerr, fmt=\"o\", label=\"EventDisplay\")\n",
    "plt.semilogx(edisp_true_pyirf, resolution_pyirf, label=\"pyirf\")\n",
    "\n",
    "plt.legend(loc=\"best\")\n",
    "plt.show()"
   ]
  },
  {
   "cell_type": "markdown",
   "metadata": {},
   "source": [
    "#### Background rate\n",
    "[back to top](#Table-of-contents)"
   ]
  },
  {
   "cell_type": "code",
   "execution_count": 16,
   "metadata": {},
   "outputs": [
    {
     "data": {
      "image/png": "[encoded data removed]",
      "text/plain": [
       "<Figure size 576x432 with 1 Axes>"
      ]
     },
     "metadata": {
      "needs_background": "light"
     },
     "output_type": "display_data"
    }
   ],
   "source": [
    "zoom = 2\n",
    "plt.figure(figsize=(zoom*4,zoom*3))\n",
    "\n",
    "# Data from EventDisplay\n",
    "h = input_EventDisplay[\"BGRate\"]\n",
    "x = np.asarray([(10**x_bin[1]+10**x_bin[0])/2. for x_bin in h.bins])\n",
    "xerr = np.asarray([(10**x_bin[1]-10**x_bin[0])/2 for x_bin in h.bins])\n",
    "y = h.values\n",
    "yerr = h.variances\n",
    "\n",
    "# Style settings\n",
    "#plt.xlim(1.e-2, 2.e2)\n",
    "#plt.ylim(1.e-7, 1.1)\n",
    "plt.xscale(\"log\")\n",
    "plt.xlabel(\"Reconstructed energy [TeV]\")\n",
    "plt.ylabel(\"Background rate [s^-1]\")\n",
    "plt.grid(which=\"both\")\n",
    "\n",
    "# Plot function\n",
    "plt.errorbar(x, y, xerr=xerr, yerr=yerr, fmt=\"o\", label=\"EventDisplay\")\n",
    "plt.loglog(background_pyirf.columns['ENERG_LO'].array,\n",
    "           background_pyirf.columns['BGD'].array,\n",
    "           drawstyle='steps-post',\n",
    "           label=\"pyirf\")\n",
    "\n",
    "plt.legend(loc=\"best\")\n",
    "plt.show()"
   ]
  },
  {
   "cell_type": "markdown",
   "metadata": {},
   "source": [
    "### Differential sensitivity\n",
    "[back to top](#Table-of-contents)"
   ]
  },
  {
   "cell_type": "code",
   "execution_count": 18,
   "metadata": {},
   "outputs": [
    {
     "data": {
      "image/png": "[encoded data removed]",
      "text/plain": [
       "<Figure size 864x576 with 1 Axes>"
      ]
     },
     "metadata": {
      "needs_background": "light"
     },
     "output_type": "display_data"
    }
   ],
   "source": [
    "plt.figure(figsize=(12,8))\n",
    "\n",
    "# Data\n",
    "h = input_EventDisplay[\"DiffSens\"]\n",
    "\n",
    "#x = np.asarray([(x_bin[1]+x_bin[0])/2. for x_bin in h.allbins[2:-1]])\n",
    "x = 10**h.edges[1:-1]\n",
    "\n",
    "y = h.values[1:]\n",
    "#yerr = h.allvariances[2:-1]\n",
    "\n",
    "# Style settings\n",
    "plt.xlim(1.e-2, 2.e2)\n",
    "plt.ylim(3.e-16, 7.e-9)\n",
    "\n",
    "plt.xscale(\"log\")\n",
    "plt.yscale(\"log\")\n",
    "plt.xlabel(\"Reconstructed energy [TeV]\")\n",
    "plt.ylabel(\"E^2 x Flux Sensitivity [erg cm^-2 s^-2]\")\n",
    "plt.grid(which=\"both\")\n",
    "\n",
    "\n",
    "# Plot function\n",
    "\n",
    "errdict=dict(fmt=\"o\")\n",
    "\n",
    "plt.bar(x,\n",
    "        height=y, \n",
    "        width=np.diff(10**h.edges[1:]), \n",
    "        align='edge', \n",
    "        xerr=np.diff(10**h.edges[1:])/2,\n",
    "        yerr=None,\n",
    "        fill=False,\n",
    "        linewidth=0,\n",
    "        label=\"EventDisplay\",\n",
    "        ecolor = \"blue\",\n",
    "        )\n",
    "\n",
    "plt.loglog(sensitivity_pyirf.columns['ENERG_LO'].array,\n",
    "           sensitivity_pyirf.columns['SENSITIVITY'].array,\n",
    "           drawstyle='steps-post',\n",
    "           label=\"pyirf\")\n",
    "\n",
    "plt.legend(loc=\"best\")\n",
    "plt.show()"
   ]
  },
  {
   "cell_type": "markdown",
   "metadata": {
    "nbsphinx": "hidden"
   },
   "source": [
    "## Close FITS files"
   ]
  },
  {
   "cell_type": "code",
   "execution_count": 19,
   "metadata": {},
   "outputs": [],
   "source": [
    "input_EventDisplay.close()\n",
    "hdul_pyirf.close()"
   ]
  },
  {
   "cell_type": "code",
   "execution_count": null,
   "metadata": {},
   "outputs": [],
   "source": []
  }
 ],
 "metadata": {
  "celltoolbar": "Edit Metadata",
  "kernelspec": {
   "display_name": "Python 3",
   "language": "python",
   "name": "python3"
  },
  "language_info": {
   "codemirror_mode": {
    "name": "ipython",
    "version": 3
   },
   "file_extension": ".py",
   "mimetype": "text/x-python",
   "name": "python",
   "nbconvert_exporter": "python",
   "pygments_lexer": "ipython3",
   "version": "3.7.6"
  }
 },
 "nbformat": 4,
 "nbformat_minor": 4
}
