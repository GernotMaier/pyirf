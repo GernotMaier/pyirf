{
 "cells": [
  {
   "cell_type": "markdown",
   "metadata": {},
   "source": [
    "# Tests on EventDisplay data"
   ]
  },
  {
   "cell_type": "markdown",
   "metadata": {},
   "source": [
    "**Purpose of this notebook:**\n",
    "\n",
    "- Read DL2 files from _EventDisplay_ in FITS format.\n",
    "\n",
    "- Read _pyirf_ output using those files.\n",
    "\n",
    "- Compare this output to the IRFs provided by _EventDisplay_.\n",
    "\n",
    "**Notes:**\n",
    "\n",
    "Only the _on-axis 50 h_ case is taken into account for the moment.\n",
    "\n",
    "**Resources:**\n",
    "\n",
    "_EventDisplay_ data, https://forge.in2p3.fr/projects/cta_analysis-and-simulations/wiki/Eventdisplay_Prod3b_DL2_Lists\n",
    "\n",
    "**TO-DOs:**\n",
    "\n",
    "- .."
   ]
  },
  {
   "cell_type": "markdown",
   "metadata": {},
   "source": [
    "## Imports libraries and modules..."
   ]
  },
  {
   "cell_type": "markdown",
   "metadata": {},
   "source": [
    "### ...from third-party libraries"
   ]
  },
  {
   "cell_type": "code",
   "execution_count": null,
   "metadata": {},
   "outputs": [],
   "source": [
    "import numpy as np\n",
    "import uproot\n",
    "from astropy.io import fits\n",
    "import matplotlib.pyplot as plt"
   ]
  },
  {
   "cell_type": "markdown",
   "metadata": {},
   "source": [
    "## Functions"
   ]
  },
  {
   "cell_type": "markdown",
   "metadata": {},
   "source": [
    "These should be added to _pyirf_ if judged useful!"
   ]
  },
  {
   "cell_type": "markdown",
   "metadata": {},
   "source": [
    "## Read DL2 files from _EventDisplay_ in FITS format"
   ]
  },
  {
   "cell_type": "markdown",
   "metadata": {},
   "source": [
    "This is only for understanding their format in order to add it to pyirf and produce the IRFs to compare"
   ]
  },
  {
   "cell_type": "code",
   "execution_count": null,
   "metadata": {},
   "outputs": [],
   "source": [
    "# Path of the required data in the user's local setup\n",
    "# Please, empty these variables before pushing to the repo!\n",
    "dl2_path = \"/Users/michele/Applications/ctasoft/tests/pyirf/EventDisplay/DL2/Paranal_20deg/CUT0/\"\n",
    "irf_path = \"/Users/michele/Applications/ctasoft/tests/pyirf/EventDisplay/IRFs/data/WPPhys201890925LongObs\""
   ]
  },
  {
   "cell_type": "code",
   "execution_count": null,
   "metadata": {},
   "outputs": [],
   "source": [
    "# DL2 files \n",
    "gammas = fits.open(f'{dl2_path}/gamma_onSource.S.3HB9-FD_ID0.eff-0-CUT0.fits')\n",
    "electrons = fits.open(f'{dl2_path}/electron_onSource.S.3HB9-FD_ID0.eff-0-CUT0.fits')\n",
    "protons = fits.open(f'{dl2_path}/proton_onSource.S.3HB9-FD_ID0.eff-0-CUT0.fits')\n",
    "\n",
    "# IRFs files\n",
    "irf = uproot.open(f'{irf_path}/DESY.d20180113.V3.ID0_180degNIM2LST4MST4SST4SCMST4.prod3b-paranal20degs05b-NN.S.3HB9-FD.180000s.root')"
   ]
  },
  {
   "cell_type": "code",
   "execution_count": null,
   "metadata": {},
   "outputs": [],
   "source": [
    "# DL2 of e.g. gammas contents\n",
    "gammas.info()"
   ]
  },
  {
   "cell_type": "code",
   "execution_count": null,
   "metadata": {},
   "outputs": [],
   "source": [
    "# IRF contents\n",
    "irf.keys()"
   ]
  },
  {
   "cell_type": "markdown",
   "metadata": {},
   "source": [
    "### Plot EventDisplay's IRFs"
   ]
  },
  {
   "cell_type": "markdown",
   "metadata": {},
   "source": [
    "#### Differential sensitivity"
   ]
  },
  {
   "cell_type": "code",
   "execution_count": null,
   "metadata": {},
   "outputs": [],
   "source": [
    "plt.figure(figsize=(12,8))\n",
    "\n",
    "# Data\n",
    "h = irf[\"DiffSens\"]\n",
    "\n",
    "#x = np.asarray([(x_bin[1]+x_bin[0])/2. for x_bin in h.allbins[2:-1]])\n",
    "x = 10**h.edges[1:-1]\n",
    "\n",
    "y = h.values[1:]\n",
    "#yerr = h.allvariances[2:-1]\n",
    "\n",
    "# Style settings\n",
    "plt.xlim(1.e-2, 2.e2)\n",
    "plt.ylim(3.e-16, 7.e-9)\n",
    "\n",
    "plt.xscale(\"log\")\n",
    "plt.yscale(\"log\")\n",
    "plt.xlabel(\"Reconstructed energy [TeV]\")\n",
    "plt.ylabel(\"E^2 x Flux Sensitivity [erg cm^-2 s^-2]\")\n",
    "plt.grid(which=\"both\")\n",
    "\n",
    "\n",
    "# Plot function\n",
    "\n",
    "errdict=dict(fmt=\"o\")\n",
    "\n",
    "plt.bar(x,\n",
    "        height=y, \n",
    "        width=np.diff(10**h.edges[1:]), \n",
    "        align='edge', \n",
    "        xerr=np.diff(10**h.edges[1:])/2,\n",
    "        yerr=None,\n",
    "        fill=False,\n",
    "        linewidth=0,\n",
    "        label=\"50h (v3)\",\n",
    "        ecolor = \"blue\",\n",
    "        )\n",
    "\n",
    "plt.legend(loc=\"best\")\n",
    "plt.show()"
   ]
  },
  {
   "cell_type": "code",
   "execution_count": null,
   "metadata": {},
   "outputs": [],
   "source": []
  },
  {
   "cell_type": "markdown",
   "metadata": {},
   "source": [
    "#### Effective collection area"
   ]
  },
  {
   "cell_type": "code",
   "execution_count": null,
   "metadata": {},
   "outputs": [],
   "source": [
    "zoom = 2\n",
    "plt.figure(figsize=(zoom*4,zoom*3))\n",
    "\n",
    "# Data\n",
    "h = irf[\"EffectiveAreaEtrue\"]\n",
    "x = np.asarray([(10**x_bin[1]+10**x_bin[0])/2. for x_bin in h.allbins[3:-1]])\n",
    "xerr = np.asarray([(10**x_bin[1]-10**x_bin[0])/2 for x_bin in h.allbins[3:-1]])\n",
    "y = h.allvalues[3:-1]\n",
    "yerr = h.allvariances[3:-1]\n",
    "\n",
    "# Style settings\n",
    "plt.xlim(1.e-2, 2.e2)\n",
    "plt.ylim(1.e3, 1.e7)\n",
    "plt.xscale(\"log\")\n",
    "plt.yscale(\"log\")\n",
    "plt.xlabel(\"True energy [TeV]\")\n",
    "plt.ylabel(\"Effective collection area [cm^2]\")\n",
    "plt.grid(which=\"both\")\n",
    "\n",
    "# Plot function\n",
    "plt.errorbar(x, y, xerr=xerr, yerr=None, fmt=\"o\", label=\"50h (v3)\")\n",
    "\n",
    "plt.legend(loc=4)\n",
    "plt.show()"
   ]
  },
  {
   "cell_type": "markdown",
   "metadata": {},
   "source": [
    "#### Angular resolution"
   ]
  },
  {
   "cell_type": "code",
   "execution_count": null,
   "metadata": {},
   "outputs": [],
   "source": [
    "zoom = 2\n",
    "plt.figure(figsize=(zoom*4,zoom*3))\n",
    "\n",
    "# Data\n",
    "h = irf[\"AngResEtrue\"]\n",
    "x = np.asarray([(10**x_bin[1]+10**x_bin[0])/2. for x_bin in h.bins])\n",
    "xerr = np.asarray([(10**x_bin[1]-10**x_bin[0])/2 for x_bin in h.bins])\n",
    "y = h.values\n",
    "yerr = h.variances\n",
    "\n",
    "# Style settings\n",
    "plt.xlim(1.e-2, 2.e2)\n",
    "plt.ylim(0.01, 0.15)\n",
    "plt.xscale(\"log\")\n",
    "plt.xlabel(\"True energy [TeV]\")\n",
    "plt.ylabel(\"Angular resolution [deg]\")\n",
    "plt.grid(which=\"both\")\n",
    "\n",
    "# Plot function\n",
    "plt.errorbar(x, y, xerr=xerr, yerr=yerr, fmt=\"o\", label=\"50h (v3)\")\n",
    "\n",
    "plt.legend(loc=\"best\")\n",
    "plt.show()"
   ]
  },
  {
   "cell_type": "markdown",
   "metadata": {},
   "source": [
    "#### Energy resolution"
   ]
  },
  {
   "cell_type": "code",
   "execution_count": null,
   "metadata": {},
   "outputs": [],
   "source": [
    "zoom = 2\n",
    "plt.figure(figsize=(zoom*4,zoom*3))\n",
    "\n",
    "# Data\n",
    "h = irf[\"ERes\"]\n",
    "x = np.asarray([(10**x_bin[1]+10**x_bin[0])/2. for x_bin in h.bins[1:]])\n",
    "xerr = np.asarray([(10**x_bin[1]-10**x_bin[0])/2 for x_bin in h.bins[1:]])\n",
    "y = h.values[1:]\n",
    "yerr = h.variances[1:]\n",
    "\n",
    "# Style settings\n",
    "plt.xlim(1.e-2, 2.e2)\n",
    "plt.ylim(0., 0.3)\n",
    "plt.xscale(\"log\")\n",
    "#plt.yscale(\"log\")\n",
    "plt.xlabel(\"Reconstructed energy [TeV]\")\n",
    "plt.ylabel(\"Energy resolution\")\n",
    "plt.grid(which=\"both\")\n",
    "\n",
    "# Plot function\n",
    "plt.errorbar(x, y, xerr=xerr, yerr=yerr, fmt=\"o\", label=\"50h (v3)\")\n",
    "\n",
    "plt.legend(loc=\"best\")\n",
    "plt.show()"
   ]
  },
  {
   "cell_type": "markdown",
   "metadata": {},
   "source": [
    "## Read _pyirf_ output"
   ]
  },
  {
   "cell_type": "code",
   "execution_count": null,
   "metadata": {},
   "outputs": [],
   "source": []
  },
  {
   "cell_type": "markdown",
   "metadata": {},
   "source": [
    "## Compare _pyirf_ IRFs with those provided by _EventDisplay_"
   ]
  },
  {
   "cell_type": "code",
   "execution_count": null,
   "metadata": {},
   "outputs": [],
   "source": []
  }
 ],
 "metadata": {
  "kernelspec": {
   "display_name": "Python 3",
   "language": "python",
   "name": "python3"
  },
  "language_info": {
   "codemirror_mode": {
    "name": "ipython",
    "version": 3
   },
   "file_extension": ".py",
   "mimetype": "text/x-python",
   "name": "python",
   "nbconvert_exporter": "python",
   "pygments_lexer": "ipython3",
   "version": "3.7.6"
  }
 },
 "nbformat": 4,
 "nbformat_minor": 4
}
