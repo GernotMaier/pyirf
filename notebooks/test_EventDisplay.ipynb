{
 "cells": [
  {
   "cell_type": "markdown",
   "metadata": {},
   "source": [
    "# Tests on EventDisplay data"
   ]
  },
  {
   "cell_type": "markdown",
   "metadata": {},
   "source": [
    "**Purpose of this notebook:**\n",
    "\n",
    "- Read DL2 files from _EventDisplay_ in FITS format.\n",
    "\n",
    "- Read _pyirf_ output using those files.\n",
    "\n",
    "- Compare this output to the IRFs provided by _EventDisplay_.\n",
    "\n",
    "**Notes:**\n",
    "\n",
    "Only the _on-axis 50 h_ case is taken into account for the moment.\n",
    "\n",
    "**Resources:**\n",
    "\n",
    "_EventDisplay_ data, https://forge.in2p3.fr/projects/cta_analysis-and-simulations/wiki/Eventdisplay_Prod3b_DL2_Lists\n",
    "\n",
    "**TO-DOs:**\n",
    "\n",
    "- .."
   ]
  },
  {
   "cell_type": "markdown",
   "metadata": {},
   "source": [
    "## Imports libraries and modules..."
   ]
  },
  {
   "cell_type": "markdown",
   "metadata": {},
   "source": [
    "### ...from third-party libraries"
   ]
  },
  {
   "cell_type": "code",
   "execution_count": 27,
   "metadata": {},
   "outputs": [],
   "source": [
    "import numpy as np\n",
    "import uproot\n",
    "from astropy.io import fits\n",
    "import matplotlib.pyplot as plt"
   ]
  },
  {
   "cell_type": "markdown",
   "metadata": {},
   "source": [
    "## Functions"
   ]
  },
  {
   "cell_type": "markdown",
   "metadata": {},
   "source": [
    "These should be added to _pyirf_ if judged useful!"
   ]
  },
  {
   "cell_type": "markdown",
   "metadata": {},
   "source": [
    "## Read DL2 files from _EventDisplay_ in FITS format"
   ]
  },
  {
   "cell_type": "markdown",
   "metadata": {},
   "source": [
    "This is only for understanding their format in order to add it to pyirf and produce the IRFs to compare"
   ]
  },
  {
   "cell_type": "code",
   "execution_count": 6,
   "metadata": {},
   "outputs": [],
   "source": [
    "# Path of the required data in the user's local setup\n",
    "# Please, empty these variables before pushing to the repo!\n",
    "dl2_path = \"/Users/michele/Applications/ctasoft/tests/pyirf/EventDisplay/DL2\"\n",
    "irf_path = \"/Users/michele/Applications/ctasoft/tests/pyirf/EventDisplay/IRFs/data/WPPhys201890925LongObs\""
   ]
  },
  {
   "cell_type": "code",
   "execution_count": 8,
   "metadata": {},
   "outputs": [],
   "source": [
    "# DL2 files \n",
    "gammas = fits.open(f'{dl2_path}/gamma_onSource.S.3HB9-FD_ID0.eff-0-CUT0.fits')\n",
    "electrons = fits.open(f'{dl2_path}/electron_onSource.S.3HB9-FD_ID0.eff-0-CUT0.fits')\n",
    "protons = fits.open(f'{dl2_path}/proton_onSource.S.3HB9-FD_ID0.eff-0-CUT0.fits')\n",
    "\n",
    "# IRFs files\n",
    "irf = uproot.open(f'{irf_path}/DESY.d20180113.V3.ID0_180degNIM2LST4MST4SST4SCMST4.prod3b-paranal20degs05b-NN.S.3HB9-FD.180000s.root')"
   ]
  },
  {
   "cell_type": "code",
   "execution_count": 9,
   "metadata": {},
   "outputs": [
    {
     "name": "stdout",
     "output_type": "stream",
     "text": [
      "Filename: /Users/michele/Applications/ctasoft/tests/pyirf/EventDisplay/DL2/electron_onSource.S.3HB9-FD_ID0.eff-0-CUT0.fits\n",
      "No.    Name      Ver    Type      Cards   Dimensions   Format\n",
      "  0  PRIMARY       1 PrimaryHDU       7   ()      \n",
      "  1  EVENTS        1 BinTableHDU     44   372833R x 9C   [1K, 1K, 1E, 1E, 1E, 1E, 1E, 1E, 1J]   \n",
      "  2  SIMULATED EVENTS    1 BinTableHDU     21   1R x 3C   [60E, 60E, 60E]   \n"
     ]
    }
   ],
   "source": [
    "# DL2 of e.g. gammas contents\n",
    "gamma.info()"
   ]
  },
  {
   "cell_type": "code",
   "execution_count": 11,
   "metadata": {},
   "outputs": [
    {
     "data": {
      "text/plain": [
       "[b'IntSens;1',\n",
       " b'IntSensCU;1',\n",
       " b'DiffSens;1',\n",
       " b'DiffSensCU;1',\n",
       " b'BGRate;1',\n",
       " b'ProtRate;1',\n",
       " b'ElecRate;1',\n",
       " b'BGRatePerSqDeg;1',\n",
       " b'ProtRateSqDeg;1',\n",
       " b'ElecRateSqDeg;1',\n",
       " b'EffectiveArea;1',\n",
       " b'EffectiveAreaEtrue;1',\n",
       " b'EffectiveAreaEtrueNoTheta2cut;1',\n",
       " b'EffectiveAreaNoTheta2cut;1',\n",
       " b'EffectiveArea80;1',\n",
       " b'AngRes;1',\n",
       " b'AngRes80;1',\n",
       " b'AngRes95;1',\n",
       " b'AngResEtrue;1',\n",
       " b'AngResEtrue80;1',\n",
       " b'AngResEtrue95;1',\n",
       " b'ERes;1',\n",
       " b'Ebias;1',\n",
       " b'Theta2Cut;1',\n",
       " b'ThetaCut;1',\n",
       " b'MigMatrix;1',\n",
       " b'MigMatrixNoTheta2cut;1',\n",
       " b'EestOverEtrue;1',\n",
       " b'EestOverEtrueNoTheta2cut;1',\n",
       " b'AngularPSF2D;1',\n",
       " b'AngularPSF2DEtrue;1',\n",
       " b'IntSens_offaxis;1',\n",
       " b'IntSensCU_offaxis;1',\n",
       " b'DiffSens_offaxis;1',\n",
       " b'DiffSensCU_offaxis;1',\n",
       " b'BGRate_offaxis;1',\n",
       " b'ProtRate_offaxis;1',\n",
       " b'ElecRate_offaxis;1',\n",
       " b'BGRatePerSqDeg_offaxis;1',\n",
       " b'ProtRateSqDeg_offaxis;1',\n",
       " b'ElecRateSqDeg_offaxis;1',\n",
       " b'EffectiveArea_offaxis;1',\n",
       " b'EffectiveAreaEtrue_offaxis;1',\n",
       " b'EffectiveAreaEtrueNoTheta2cut_offaxis;1',\n",
       " b'EffectiveAreaNoTheta2cut_offaxis;1',\n",
       " b'EffectiveArea80_offaxis;1',\n",
       " b'AngRes_offaxis;1',\n",
       " b'AngRes80_offaxis;1',\n",
       " b'AngRes95_offaxis;1',\n",
       " b'AngResEtrue_offaxis;1',\n",
       " b'AngResEtrue80_offaxis;1',\n",
       " b'AngResEtrue95_offaxis;1',\n",
       " b'ERes_offaxis;1',\n",
       " b'Ebias_offaxis;1',\n",
       " b'Theta2Cut_offaxis;1',\n",
       " b'ThetaCut_offaxis;1',\n",
       " b'MigMatrix_offaxis;1',\n",
       " b'MigMatrixNoTheta2cut_offaxis;1',\n",
       " b'EestOverEtrue_offaxis;1',\n",
       " b'EestOverEtrueNoTheta2cut_offaxis;1',\n",
       " b'AngularPSF2D_offaxis;1',\n",
       " b'AngularPSF2DEtrue_offaxis;1',\n",
       " b'debug;1']"
      ]
     },
     "execution_count": 11,
     "metadata": {},
     "output_type": "execute_result"
    }
   ],
   "source": [
    "# IRF contents\n",
    "irf.keys()"
   ]
  },
  {
   "cell_type": "markdown",
   "metadata": {},
   "source": [
    "### Plot EventDisplay's IRFs"
   ]
  },
  {
   "cell_type": "markdown",
   "metadata": {},
   "source": [
    "#### Differential sensitivity"
   ]
  },
  {
   "cell_type": "code",
   "execution_count": 22,
   "metadata": {},
   "outputs": [],
   "source": [
    "h = irf[\"DiffSens\"]"
   ]
  },
  {
   "cell_type": "code",
   "execution_count": 66,
   "metadata": {},
   "outputs": [
    {
     "data": {
      "text/plain": [
       "array([[-1.9, -1.7],\n",
       "       [-1.7, -1.5],\n",
       "       [-1.5, -1.3],\n",
       "       [-1.3, -1.1],\n",
       "       [-1.1, -0.9],\n",
       "       [-0.9, -0.7],\n",
       "       [-0.7, -0.5],\n",
       "       [-0.5, -0.3],\n",
       "       [-0.3, -0.1],\n",
       "       [-0.1,  0.1],\n",
       "       [ 0.1,  0.3],\n",
       "       [ 0.3,  0.5],\n",
       "       [ 0.5,  0.7],\n",
       "       [ 0.7,  0.9],\n",
       "       [ 0.9,  1.1],\n",
       "       [ 1.1,  1.3],\n",
       "       [ 1.3,  1.5],\n",
       "       [ 1.5,  1.7],\n",
       "       [ 1.7,  1.9],\n",
       "       [ 1.9,  2.1],\n",
       "       [ 2.1,  2.3]])"
      ]
     },
     "execution_count": 66,
     "metadata": {},
     "output_type": "execute_result"
    }
   ],
   "source": [
    "h.bins"
   ]
  },
  {
   "cell_type": "code",
   "execution_count": 59,
   "metadata": {},
   "outputs": [
    {
     "data": {
      "image/png": "[encoded data removed]",
      "text/plain": [
       "<Figure size 432x288 with 1 Axes>"
      ]
     },
     "metadata": {
      "needs_background": "light"
     },
     "output_type": "display_data"
    }
   ],
   "source": [
    "plt.loglog(10**h.numpy()[1][1:], h.numpy()[0], \"o\")\n",
    "plt.xlabel(\"Reconstructed energy [TeV]\")\n",
    "plt.ylabel(\"E^2 x Flux Sensitivity [erg cm^-2 s^-2]\")\n",
    "plt.grid(which=\"both\")\n",
    "plt.show()"
   ]
  },
  {
   "cell_type": "markdown",
   "metadata": {},
   "source": [
    "## Read _pyirf_ output"
   ]
  },
  {
   "cell_type": "code",
   "execution_count": null,
   "metadata": {},
   "outputs": [],
   "source": []
  },
  {
   "cell_type": "markdown",
   "metadata": {},
   "source": [
    "## Compare _pyirf_ IRFs with those provided by _EventDisplay_"
   ]
  },
  {
   "cell_type": "code",
   "execution_count": null,
   "metadata": {},
   "outputs": [],
   "source": []
  }
 ],
 "metadata": {
  "kernelspec": {
   "display_name": "Python 3",
   "language": "python",
   "name": "python3"
  },
  "language_info": {
   "codemirror_mode": {
    "name": "ipython",
    "version": 3
   },
   "file_extension": ".py",
   "mimetype": "text/x-python",
   "name": "python",
   "nbconvert_exporter": "python",
   "pygments_lexer": "ipython3",
   "version": "3.7.6"
  }
 },
 "nbformat": 4,
 "nbformat_minor": 4
}
