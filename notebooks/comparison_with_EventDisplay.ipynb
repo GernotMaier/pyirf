{
 "cells": [
  {
   "cell_type": "markdown",
   "metadata": {},
   "source": [
    "# Comparison with EventDisplay"
   ]
  },
  {
   "cell_type": "markdown",
   "metadata": {},
   "source": [
    "**Purpose of this notebook:**\n",
    "\n",
    "- Read DL2 files from _EventDisplay_ in FITS format\n",
    "\n",
    "- Read _pyirf_ output\n",
    "\n",
    "- Compare the outputs\n",
    "\n",
    "**Notes:**\n",
    "\n",
    "Only the _on-axis 50 h_ case is taken into account for the moment.\n",
    "\n",
    "**Resources:**\n",
    "\n",
    "_EventDisplay_ DL2 data, https://forge.in2p3.fr/projects/cta_analysis-and-simulations/wiki/Eventdisplay_Prod3b_DL2_Lists\n",
    "\n",
    "**TO-DOs:**\n",
    "\n",
    "- .."
   ]
  },
  {
   "cell_type": "markdown",
   "metadata": {},
   "source": [
    "## Imports"
   ]
  },
  {
   "cell_type": "code",
   "execution_count": 1,
   "metadata": {},
   "outputs": [],
   "source": [
    "import numpy as np\n",
    "import uproot\n",
    "from astropy.io import fits\n",
    "import matplotlib.pyplot as plt"
   ]
  },
  {
   "cell_type": "markdown",
   "metadata": {},
   "source": [
    "## Definitions of classes and functions"
   ]
  },
  {
   "cell_type": "markdown",
   "metadata": {},
   "source": [
    "If judged useful, these should be moved to pyirf!"
   ]
  },
  {
   "cell_type": "markdown",
   "metadata": {},
   "source": [
    "## Inputs"
   ]
  },
  {
   "cell_type": "markdown",
   "metadata": {},
   "source": [
    "### _EventDisplay_"
   ]
  },
  {
   "cell_type": "markdown",
   "metadata": {},
   "source": [
    "The input data provided by _EventDisplay_ are in _ROOT_ format, so _uproot_ is used to transform it into _numpy_ objects. "
   ]
  },
  {
   "cell_type": "code",
   "execution_count": 2,
   "metadata": {
    "tags": [
     "parameters"
    ]
   },
   "outputs": [],
   "source": [
    "# Path of the required input data in the user's local setup\n",
    "# Please, empty these variables before pushing to the repo!\n",
    "indir_EventDisplay = \"/Users/michele/Applications/ctasoft/tests/pyirf/EventDisplay/IRFs/data/WPPhys201890925LongObs\"\n",
    "infile_EventDisplay = \"DESY.d20180113.V3.ID0_180degNIM2LST4MST4SST4SCMST4.prod3b-paranal20degs05b-NN.S.3HB9-FD.180000s.root\"\n",
    "\n",
    "input_EventDisplay = uproot.open(f'{indir_EventDisplay}/{infile_EventDisplay}')"
   ]
  },
  {
   "cell_type": "code",
   "execution_count": 3,
   "metadata": {},
   "outputs": [
    {
     "data": {
      "text/plain": [
       "[b'IntSens;1',\n",
       " b'IntSensCU;1',\n",
       " b'DiffSens;1',\n",
       " b'DiffSensCU;1',\n",
       " b'BGRate;1',\n",
       " b'ProtRate;1',\n",
       " b'ElecRate;1',\n",
       " b'BGRatePerSqDeg;1',\n",
       " b'ProtRateSqDeg;1',\n",
       " b'ElecRateSqDeg;1',\n",
       " b'EffectiveArea;1',\n",
       " b'EffectiveAreaEtrue;1',\n",
       " b'EffectiveAreaEtrueNoTheta2cut;1',\n",
       " b'EffectiveAreaNoTheta2cut;1',\n",
       " b'EffectiveArea80;1',\n",
       " b'AngRes;1',\n",
       " b'AngRes80;1',\n",
       " b'AngRes95;1',\n",
       " b'AngResEtrue;1',\n",
       " b'AngResEtrue80;1',\n",
       " b'AngResEtrue95;1',\n",
       " b'ERes;1',\n",
       " b'Ebias;1',\n",
       " b'Theta2Cut;1',\n",
       " b'ThetaCut;1',\n",
       " b'MigMatrix;1',\n",
       " b'MigMatrixNoTheta2cut;1',\n",
       " b'EestOverEtrue;1',\n",
       " b'EestOverEtrueNoTheta2cut;1',\n",
       " b'AngularPSF2D;1',\n",
       " b'AngularPSF2DEtrue;1',\n",
       " b'IntSens_offaxis;1',\n",
       " b'IntSensCU_offaxis;1',\n",
       " b'DiffSens_offaxis;1',\n",
       " b'DiffSensCU_offaxis;1',\n",
       " b'BGRate_offaxis;1',\n",
       " b'ProtRate_offaxis;1',\n",
       " b'ElecRate_offaxis;1',\n",
       " b'BGRatePerSqDeg_offaxis;1',\n",
       " b'ProtRateSqDeg_offaxis;1',\n",
       " b'ElecRateSqDeg_offaxis;1',\n",
       " b'EffectiveArea_offaxis;1',\n",
       " b'EffectiveAreaEtrue_offaxis;1',\n",
       " b'EffectiveAreaEtrueNoTheta2cut_offaxis;1',\n",
       " b'EffectiveAreaNoTheta2cut_offaxis;1',\n",
       " b'EffectiveArea80_offaxis;1',\n",
       " b'AngRes_offaxis;1',\n",
       " b'AngRes80_offaxis;1',\n",
       " b'AngRes95_offaxis;1',\n",
       " b'AngResEtrue_offaxis;1',\n",
       " b'AngResEtrue80_offaxis;1',\n",
       " b'AngResEtrue95_offaxis;1',\n",
       " b'ERes_offaxis;1',\n",
       " b'Ebias_offaxis;1',\n",
       " b'Theta2Cut_offaxis;1',\n",
       " b'ThetaCut_offaxis;1',\n",
       " b'MigMatrix_offaxis;1',\n",
       " b'MigMatrixNoTheta2cut_offaxis;1',\n",
       " b'EestOverEtrue_offaxis;1',\n",
       " b'EestOverEtrueNoTheta2cut_offaxis;1',\n",
       " b'AngularPSF2D_offaxis;1',\n",
       " b'AngularPSF2DEtrue_offaxis;1',\n",
       " b'debug;1']"
      ]
     },
     "execution_count": 3,
     "metadata": {},
     "output_type": "execute_result"
    }
   ],
   "source": [
    "# Contents of the ROOT file\n",
    "input_EventDisplay.keys()"
   ]
  },
  {
   "cell_type": "markdown",
   "metadata": {},
   "source": [
    "### Output data preparation"
   ]
  },
  {
   "cell_type": "markdown",
   "metadata": {},
   "source": [
    "## _pyirf_"
   ]
  },
  {
   "cell_type": "markdown",
   "metadata": {},
   "source": [
    "Until _pyirf_ will support the latest version of _gammapy_ (currently it is still using the old 0.8 version used by _protopipe_) we read its output manually (i.e. without using the classes provided by _gammapy_, like e.g. `EffectiveAreaTable`"
   ]
  },
  {
   "cell_type": "code",
   "execution_count": 5,
   "metadata": {},
   "outputs": [],
   "source": [
    "indir_pyirf = \"/Users/michele/Applications/ctasoft/tests/pyirf/EventDisplay/from_pyirf/irf_EventDisplay_Time50h/\"\n",
    "infile_pyirf = \"irf.fits.gz\"\n",
    "\n",
    "hdul_pyirf = fits.open(f'{indir_pyirf}/{infile_pyirf}') # will be closed at the end of the notebook"
   ]
  },
  {
   "cell_type": "code",
   "execution_count": 6,
   "metadata": {},
   "outputs": [
    {
     "name": "stdout",
     "output_type": "stream",
     "text": [
      "Filename: /Users/michele/Applications/ctasoft/tests/pyirf/EventDisplay/from_pyirf/irf_EventDisplay_Time50h//irf.fits.gz\n",
      "No.    Name      Ver    Type      Cards   Dimensions   Format\n",
      "  0  PRIMARY       1 PrimaryHDU       5   (100,)   float64   \n",
      "  1  EFFECTIVE AREA    1 BinTableHDU     31   1R x 5C   [42D, 42D, 2D, 2D, 84D]   \n",
      "  2  POINT SPREAD FUNCTION    1 BinTableHDU     18   21R x 3C   [E, E, E]   \n",
      "  3  ENERGY DISPERSION    1 BinTableHDU     37   1R x 7C   [60D, 60D, 300D, 300D, 2D, 2D, 36000D]   \n",
      "  4  BACKGROUND    1 BinTableHDU     18   21R x 3C   [E, E, E]   \n",
      "  5  EFFECTIVE AREA    1 BinTableHDU     31   1R x 5C   [42D, 42D, 2D, 2D, 84D]   \n",
      "  6  EFFECTIVE AREA    1 BinTableHDU     31   1R x 5C   [42D, 42D, 2D, 2D, 84D]   \n",
      "  7  EFFECTIVE AREA    1 BinTableHDU     31   1R x 5C   [42D, 42D, 2D, 2D, 84D]   \n"
     ]
    }
   ],
   "source": [
    "# Contents of the FITS file\n",
    "hdul_pyirf.info()"
   ]
  },
  {
   "cell_type": "markdown",
   "metadata": {},
   "source": [
    "### Output data preparation"
   ]
  },
  {
   "cell_type": "markdown",
   "metadata": {},
   "source": [
    "## Comparison"
   ]
  },
  {
   "cell_type": "markdown",
   "metadata": {},
   "source": [
    "For the moment it is not necessary to replicate perfectly the EventDisplay output, because this depends also on:\n",
    "- the configuration in config.yaml,\n",
    "- the specific cuts optiization performed by EventDisplay (which has not yet been replicated in pyirf)\n",
    "This comparison is here to make sure that we can produce the output and use it to play a bit."
   ]
  },
  {
   "cell_type": "markdown",
   "metadata": {},
   "source": [
    "### IRFs"
   ]
  },
  {
   "cell_type": "markdown",
   "metadata": {},
   "source": [
    "#### Effective collection area"
   ]
  },
  {
   "cell_type": "code",
   "execution_count": 8,
   "metadata": {},
   "outputs": [
    {
     "data": {
      "image/png": "[encoded data removed]",
      "text/plain": [
       "<Figure size 576x432 with 1 Axes>"
      ]
     },
     "metadata": {
      "needs_background": "light"
     },
     "output_type": "display_data"
    }
   ],
   "source": [
    "zoom = 2\n",
    "plt.figure(figsize=(zoom*4,zoom*3))\n",
    "\n",
    "# Data\n",
    "h = input_EventDisplay[\"EffectiveAreaEtrue\"]\n",
    "x = np.asarray([(10**x_bin[1]+10**x_bin[0])/2. for x_bin in h.allbins[3:-1]])\n",
    "xerr = np.asarray([(10**x_bin[1]-10**x_bin[0])/2 for x_bin in h.allbins[3:-1]])\n",
    "y = h.allvalues[3:-1]\n",
    "yerr = h.allvariances[3:-1]\n",
    "\n",
    "# Style settings\n",
    "plt.xlim(1.e-2, 2.e2)\n",
    "plt.ylim(1.e3, 1.e7)\n",
    "plt.xscale(\"log\")\n",
    "plt.yscale(\"log\")\n",
    "plt.xlabel(\"True energy [TeV]\")\n",
    "plt.ylabel(\"Effective collection area [cm^2]\")\n",
    "plt.grid(which=\"both\")\n",
    "\n",
    "# Plot function\n",
    "plt.errorbar(x, y, xerr=xerr, yerr=None, fmt=\"o\", label=\"50h (v3)\")\n",
    "\n",
    "plt.legend(loc=4)\n",
    "plt.show()"
   ]
  },
  {
   "cell_type": "markdown",
   "metadata": {},
   "source": [
    "#### Energy resolution"
   ]
  },
  {
   "cell_type": "code",
   "execution_count": 9,
   "metadata": {},
   "outputs": [
    {
     "data": {
      "image/png": "[encoded data removed]",
      "text/plain": [
       "<Figure size 576x432 with 1 Axes>"
      ]
     },
     "metadata": {
      "needs_background": "light"
     },
     "output_type": "display_data"
    }
   ],
   "source": [
    "zoom = 2\n",
    "plt.figure(figsize=(zoom*4,zoom*3))\n",
    "\n",
    "# Data\n",
    "h = input_EventDisplay[\"ERes\"]\n",
    "x = np.asarray([(10**x_bin[1]+10**x_bin[0])/2. for x_bin in h.bins[1:]])\n",
    "xerr = np.asarray([(10**x_bin[1]-10**x_bin[0])/2 for x_bin in h.bins[1:]])\n",
    "y = h.values[1:]\n",
    "yerr = h.variances[1:]\n",
    "\n",
    "# Style settings\n",
    "plt.xlim(1.e-2, 2.e2)\n",
    "plt.ylim(0., 0.3)\n",
    "plt.xscale(\"log\")\n",
    "#plt.yscale(\"log\")\n",
    "plt.xlabel(\"Reconstructed energy [TeV]\")\n",
    "plt.ylabel(\"Energy resolution\")\n",
    "plt.grid(which=\"both\")\n",
    "\n",
    "# Plot function\n",
    "plt.errorbar(x, y, xerr=xerr, yerr=yerr, fmt=\"o\", label=\"50h (v3)\")\n",
    "\n",
    "plt.legend(loc=\"best\")\n",
    "plt.show()"
   ]
  },
  {
   "cell_type": "markdown",
   "metadata": {},
   "source": [
    "#### Angular resolution"
   ]
  },
  {
   "cell_type": "code",
   "execution_count": 10,
   "metadata": {},
   "outputs": [
    {
     "data": {
      "image/png": "[encoded data removed]",
      "text/plain": [
       "<Figure size 576x432 with 1 Axes>"
      ]
     },
     "metadata": {
      "needs_background": "light"
     },
     "output_type": "display_data"
    }
   ],
   "source": [
    "zoom = 2\n",
    "plt.figure(figsize=(zoom*4,zoom*3))\n",
    "\n",
    "# Data\n",
    "h = input_EventDisplay[\"AngResEtrue\"]\n",
    "x = np.asarray([(10**x_bin[1]+10**x_bin[0])/2. for x_bin in h.bins])\n",
    "xerr = np.asarray([(10**x_bin[1]-10**x_bin[0])/2 for x_bin in h.bins])\n",
    "y = h.values\n",
    "yerr = h.variances\n",
    "\n",
    "# Style settings\n",
    "plt.xlim(1.e-2, 2.e2)\n",
    "plt.ylim(0.01, 0.15)\n",
    "plt.xscale(\"log\")\n",
    "plt.xlabel(\"True energy [TeV]\")\n",
    "plt.ylabel(\"Angular resolution [deg]\")\n",
    "plt.grid(which=\"both\")\n",
    "\n",
    "# Plot function\n",
    "plt.errorbar(x, y, xerr=xerr, yerr=yerr, fmt=\"o\", label=\"50h (v3)\")\n",
    "\n",
    "plt.legend(loc=\"best\")\n",
    "plt.show()"
   ]
  },
  {
   "cell_type": "markdown",
   "metadata": {},
   "source": [
    "### Differential sensitivity"
   ]
  },
  {
   "cell_type": "code",
   "execution_count": 11,
   "metadata": {},
   "outputs": [
    {
     "data": {
      "image/png": "[encoded data removed]",
      "text/plain": [
       "<Figure size 864x576 with 1 Axes>"
      ]
     },
     "metadata": {
      "needs_background": "light"
     },
     "output_type": "display_data"
    }
   ],
   "source": [
    "plt.figure(figsize=(12,8))\n",
    "\n",
    "# Data\n",
    "h = input_EventDisplay[\"DiffSens\"]\n",
    "\n",
    "#x = np.asarray([(x_bin[1]+x_bin[0])/2. for x_bin in h.allbins[2:-1]])\n",
    "x = 10**h.edges[1:-1]\n",
    "\n",
    "y = h.values[1:]\n",
    "#yerr = h.allvariances[2:-1]\n",
    "\n",
    "# Style settings\n",
    "plt.xlim(1.e-2, 2.e2)\n",
    "plt.ylim(3.e-16, 7.e-9)\n",
    "\n",
    "plt.xscale(\"log\")\n",
    "plt.yscale(\"log\")\n",
    "plt.xlabel(\"Reconstructed energy [TeV]\")\n",
    "plt.ylabel(\"E^2 x Flux Sensitivity [erg cm^-2 s^-2]\")\n",
    "plt.grid(which=\"both\")\n",
    "\n",
    "\n",
    "# Plot function\n",
    "\n",
    "errdict=dict(fmt=\"o\")\n",
    "\n",
    "plt.bar(x,\n",
    "        height=y, \n",
    "        width=np.diff(10**h.edges[1:]), \n",
    "        align='edge', \n",
    "        xerr=np.diff(10**h.edges[1:])/2,\n",
    "        yerr=None,\n",
    "        fill=False,\n",
    "        linewidth=0,\n",
    "        label=\"50h (v3)\",\n",
    "        ecolor = \"blue\",\n",
    "        )\n",
    "\n",
    "plt.legend(loc=\"best\")\n",
    "plt.show()"
   ]
  },
  {
   "cell_type": "markdown",
   "metadata": {},
   "source": [
    "## Close FITS files"
   ]
  },
  {
   "cell_type": "code",
   "execution_count": 13,
   "metadata": {},
   "outputs": [],
   "source": [
    "input_EventDisplay.close()\n",
    "hdul_pyirf.close()"
   ]
  },
  {
   "cell_type": "code",
   "execution_count": null,
   "metadata": {},
   "outputs": [],
   "source": []
  }
 ],
 "metadata": {
  "kernelspec": {
   "display_name": "Python 3",
   "language": "python",
   "name": "python3"
  },
  "language_info": {
   "codemirror_mode": {
    "name": "ipython",
    "version": 3
   },
   "file_extension": ".py",
   "mimetype": "text/x-python",
   "name": "python",
   "nbconvert_exporter": "python",
   "pygments_lexer": "ipython3",
   "version": "3.7.6"
  }
 },
 "nbformat": 4,
 "nbformat_minor": 4
}
