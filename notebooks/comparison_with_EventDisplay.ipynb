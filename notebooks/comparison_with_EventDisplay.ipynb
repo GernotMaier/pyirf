{
 "cells": [
  {
   "cell_type": "code",
   "execution_count": null,
   "metadata": {},
   "outputs": [],
   "source": [
    "# Remove input cells at runtime (nbsphinx)\n",
    "import IPython.core.display as d\n",
    "d.display_html('<script>jQuery(function() {if (jQuery(\"body.notebook_app\").length == 0) { jQuery(\".input_area\").toggle(); jQuery(\".prompt\").toggle();}});</script>', raw=True)"
   ]
  },
  {
   "cell_type": "markdown",
   "metadata": {},
   "source": [
    "# Comparison with EventDisplay"
   ]
  },
  {
   "cell_type": "markdown",
   "metadata": {},
   "source": [
    "**Purpose of this notebook:**\n",
    "\n",
    "- Read DL2 files from _EventDisplay_ in FITS format\n",
    "\n",
    "- Read _pyirf_ output\n",
    "\n",
    "- Compare the outputs\n",
    "\n",
    "**Notes:**\n",
    "\n",
    "The following results correspond to:\n",
    "\n",
    "- Paranal site\n",
    "- Zd 20 deg, Az 180 deg\n",
    "- 50 h observation time\n",
    "\n",
    "**Resources:**\n",
    "\n",
    "_EventDisplay_ DL2 data, https://forge.in2p3.fr/projects/cta_analysis-and-simulations/wiki/Eventdisplay_Prod3b_DL2_Lists\n",
    "\n",
    "**TO-DOs:**\n",
    "\n",
    "- ..."
   ]
  },
  {
   "cell_type": "markdown",
   "metadata": {},
   "source": [
    "## Table of contents\n",
    "\n",
    "* [IRFs](#IRFs)\n",
    "    - [Effective area](#Effective-area)\n",
    "    - [Angular resolution](#Angular-resolution)\n",
    "    - [Energy resolution](#Energy-resolution)\n",
    "    - [Background rate](#Background-rate)\n",
    "* [Differential sensitivity](#Differential-sensitivity)"
   ]
  },
  {
   "cell_type": "markdown",
   "metadata": {
    "nbsphinx": "hidden"
   },
   "source": [
    "## Imports"
   ]
  },
  {
   "cell_type": "code",
   "execution_count": 1,
   "metadata": {},
   "outputs": [],
   "source": [
    "import numpy as np\n",
    "import uproot\n",
    "from astropy.io import fits\n",
    "import matplotlib.pyplot as plt\n",
    "import os"
   ]
  },
  {
   "cell_type": "code",
   "execution_count": 2,
   "metadata": {},
   "outputs": [],
   "source": [
    "import astropy.units as u"
   ]
  },
  {
   "cell_type": "markdown",
   "metadata": {
    "nbsphinx": "hidden"
   },
   "source": [
    "## Definitions of classes and functions"
   ]
  },
  {
   "cell_type": "markdown",
   "metadata": {
    "nbsphinx": "hidden"
   },
   "source": [
    "If judged useful, these should be moved to pyirf!"
   ]
  },
  {
   "cell_type": "markdown",
   "metadata": {
    "nbsphinx": "hidden"
   },
   "source": [
    "## Input data"
   ]
  },
  {
   "cell_type": "markdown",
   "metadata": {
    "nbsphinx": "hidden"
   },
   "source": [
    "### _EventDisplay_"
   ]
  },
  {
   "cell_type": "markdown",
   "metadata": {
    "nbsphinx": "hidden"
   },
   "source": [
    "The input data provided by _EventDisplay_ is stored in _ROOT_ format, so _uproot_ is used to transform it into _numpy_ objects. "
   ]
  },
  {
   "cell_type": "code",
   "execution_count": 3,
   "metadata": {
    "tags": [
     "parameters"
    ]
   },
   "outputs": [],
   "source": [
    "# Path of EventDisplay IRF data in the user's local setup\n",
    "# Please, empty the indir_EventDisplay variable before pushing to the repo\n",
    "indir_EventDisplay = \"../../data/event_display_irfs/data/WPPhys201890925LongObs/\"\n",
    "infile_EventDisplay = \"DESY.d20180113.V3.ID0_180degNIM2LST4MST4SST4SCMST4.prod3b-paranal20degs05b-NN.S.3HB9-FD.180000s.root\"\n",
    "\n",
    "irf_eventdisplay = uproot.open(os.path.join(indir_EventDisplay, infile_EventDisplay))"
   ]
  },
  {
   "cell_type": "code",
   "execution_count": 4,
   "metadata": {},
   "outputs": [],
   "source": [
    "# Contents of the ROOT file\n",
    "# input_EventDisplay.keys()"
   ]
  },
  {
   "cell_type": "markdown",
   "metadata": {
    "nbsphinx": "hidden"
   },
   "source": [
    "### Setup of output data"
   ]
  },
  {
   "cell_type": "markdown",
   "metadata": {
    "nbsphinx": "hidden"
   },
   "source": [
    "## _pyirf_"
   ]
  },
  {
   "cell_type": "markdown",
   "metadata": {},
   "source": [
    "The following is the current IRF + sensititivy output FITS format provided by this software."
   ]
  },
  {
   "cell_type": "markdown",
   "metadata": {},
   "source": [
    "### Differential sensitivity\n",
    "[back to top](#Table-of-contents)"
   ]
  },
  {
   "cell_type": "code",
   "execution_count": 5,
   "metadata": {},
   "outputs": [],
   "source": [
    "from astropy.table import QTable"
   ]
  },
  {
   "cell_type": "code",
   "execution_count": 33,
   "metadata": {},
   "outputs": [],
   "source": [
    "# remove under/overflow bin\n",
    "sensitivity = QTable.read('../sensitivity.fits.gz', hdu='SENSITIVITY')[1:-1]\n",
    "sensitivity_step_2 = QTable.read('../sensitivity.fits.gz', hdu='SENSITIVITY_STEP_2')[1:-1]"
   ]
  },
  {
   "cell_type": "code",
   "execution_count": 34,
   "metadata": {},
   "outputs": [
    {
     "data": {
      "text/html": [
       "<i>QTable length=21</i>\n",
       "<table id=\"table140432195749840\" class=\"table-striped table-bordered table-condensed\">\n",
       "<thead><tr><th>reco_energy_low</th><th>reco_energy_center</th><th>reco_energy_high</th><th>n_signal</th><th>n_signal_weighted</th><th>n_background</th><th>n_background_weighted</th><th>relative_sensitivity</th><th>flux_sensitivity</th></tr></thead>\n",
       "<thead><tr><th>TeV</th><th>TeV</th><th>TeV</th><th></th><th></th><th></th><th></th><th></th><th>1 / (cm2 s TeV)</th></tr></thead>\n",
       "<thead><tr><th>float64</th><th>float64</th><th>float64</th><th>int64</th><th>float64</th><th>int64</th><th>float64</th><th>float64</th><th>float64</th></tr></thead>\n",
       "<tr><td>0.012589254117941675</td><td>0.016270938633815235</td><td>0.0199526231496888</td><td>1129</td><td>4052.0534638085055</td><td>4</td><td>2992.527048409006</td><td>0.24087772804480675</td><td>3.308887876558572e-07</td></tr>\n",
       "<tr><td>0.0199526231496888</td><td>0.025787699875686295</td><td>0.03162277660168379</td><td>30039</td><td>91562.76948280289</td><td>128</td><td>70110.96129089783</td><td>0.053132569583533434</td><td>2.1839677676726172e-08</td></tr>\n",
       "<tr><td>0.03162277660168379</td><td>0.04087074998220551</td><td>0.05011872336272722</td><td>81059</td><td>199760.34109939943</td><td>199</td><td>88491.91010913285</td><td>0.01640720260062426</td><td>2.0179943490542266e-09</td></tr>\n",
       "<tr><td>0.05011872336272722</td><td>0.06477577341757768</td><td>0.07943282347242814</td><td>87327</td><td>162217.5674365941</td><td>87</td><td>21069.0332801514</td><td>0.007146990744719955</td><td>2.6303202261989764e-10</td></tr>\n",
       "<tr><td>0.07943282347242814</td><td>0.1026626823259224</td><td>0.12589254117941667</td><td>148820</td><td>206544.82726980548</td><td>73</td><td>14021.253022091143</td><td>0.004350767433290827</td><td>4.7912769368599987e-11</td></tr>\n",
       "<tr><td>0.12589254117941667</td><td>0.1627093863381523</td><td>0.1995262314968879</td><td>159947</td><td>165880.4769129249</td><td>55</td><td>6700.891187969217</td><td>0.0036841277385645777</td><td>1.2140039080035877e-11</td></tr>\n",
       "<tr><td>0.1995262314968879</td><td>0.2578769987568628</td><td>0.3162277660168378</td><td>63571</td><td>49130.40593400132</td><td>5</td><td>227.09398949419847</td><td>0.0024372665737508225</td><td>2.4031918205848773e-12</td></tr>\n",
       "<tr><td>0.3162277660168378</td><td>0.4087074998220549</td><td>0.501187233627272</td><td>91317</td><td>53854.346008459455</td><td>14</td><td>397.0560834045755</td><td>0.0028687615107831827</td><td>8.464081769258541e-13</td></tr>\n",
       "<tr><td>0.501187233627272</td><td>0.6477577341757765</td><td>0.7943282347242809</td><td>110142</td><td>49009.429562537116</td><td>13</td><td>183.45647849485977</td><td>0.002221418968554399</td><td>1.9611728881779492e-13</td></tr>\n",
       "<tr><td>0.7943282347242809</td><td>1.0266268232592235</td><td>1.2589254117941662</td><td>93686</td><td>31112.367732431274</td><td>8</td><td>61.77265855585574</td><td>0.0022062843686175945</td><td>5.828367031206147e-14</td></tr>\n",
       "<tr><td>1.2589254117941662</td><td>1.6270938633815215</td><td>1.9952623149688768</td><td>98265</td><td>24432.00688285986</td><td>3</td><td>14.278496930695837</td><td>0.0016430963655147555</td><td>1.2988184218839263e-14</td></tr>\n",
       "<tr><td>1.9952623149688768</td><td>2.5787699875686263</td><td>3.162277660168376</td><td>101315</td><td>19029.955164903076</td><td>1</td><td>1.565488072053995</td><td>0.0012346242910685258</td><td>2.9202512751664235e-15</td></tr>\n",
       "<tr><td>3.162277660168376</td><td>4.087074998220547</td><td>5.011872336272719</td><td>88315</td><td>12502.445644024527</td><td>3</td><td>2.8222031239711214</td><td>0.0020905821683190676</td><td>1.4796283591700434e-15</td></tr>\n",
       "<tr><td>5.011872336272719</td><td>6.477577341757762</td><td>7.943282347242805</td><td>68746</td><td>7324.810795264784</td><td>4</td><td>0.8799085880455095</td><td>0.0029609484850534815</td><td>6.270703356119615e-16</td></tr>\n",
       "<tr><td>7.943282347242805</td><td>10.266268232592228</td><td>12.58925411794165</td><td>52882</td><td>4228.96954772179</td><td>7</td><td>0.8098812467651442</td><td>0.005079181163169803</td><td>3.218689685381609e-16</td></tr>\n",
       "<tr><td>12.58925411794165</td><td>16.27093863381521</td><td>19.95262314968877</td><td>37121</td><td>2228.420714322012</td><td>5</td><td>0.2639648187032435</td><td>0.008766363020775466</td><td>1.6622825886631686e-16</td></tr>\n",
       "<tr><td>19.95262314968877</td><td>25.787699875686265</td><td>31.62277660168376</td><td>26408</td><td>1189.0203963271342</td><td>2</td><td>33.93143994896673</td><td>0.046733766219600355</td><td>2.651649920643812e-16</td></tr>\n",
       "<tr><td>31.62277660168376</td><td>40.87074998220545</td><td>50.118723362727145</td><td>17073</td><td>577.6697452813387</td><td>2</td><td>28.286654843279393</td><td>0.09147276082196486</td><td>1.5530205124073486e-16</td></tr>\n",
       "<tr><td>50.118723362727145</td><td>64.77577341757755</td><td>79.43282347242797</td><td>11443</td><td>291.2577633045148</td><td>1</td><td>13.204852920142002</td><td>0.13941569529548337</td><td>7.082671084248521e-17</td></tr>\n",
       "<tr><td>79.43282347242797</td><td>102.66268232592222</td><td>125.89254117941648</td><td>7394</td><td>140.6052294790279</td><td>2</td><td>14.67323765810579</td><td>0.31413297762868114</td><td>4.775281035142733e-17</td></tr>\n",
       "<tr><td>125.89254117941648</td><td>162.7093863381521</td><td>199.52623149688768</td><td>4700</td><td>66.60329778515734</td><td>2</td><td>12.11574483505683</td><td>0.6692398985411591</td><td>3.0441582790076444e-17</td></tr>\n",
       "</table>"
      ],
      "text/plain": [
       "<QTable length=21>\n",
       "  reco_energy_low     reco_energy_center  ...    flux_sensitivity   \n",
       "        TeV                  TeV          ...    1 / (cm2 s TeV)    \n",
       "      float64              float64        ...        float64        \n",
       "-------------------- -------------------- ... ----------------------\n",
       "0.012589254117941675 0.016270938633815235 ...  3.308887876558572e-07\n",
       "  0.0199526231496888 0.025787699875686295 ... 2.1839677676726172e-08\n",
       " 0.03162277660168379  0.04087074998220551 ... 2.0179943490542266e-09\n",
       " 0.05011872336272722  0.06477577341757768 ... 2.6303202261989764e-10\n",
       " 0.07943282347242814   0.1026626823259224 ... 4.7912769368599987e-11\n",
       " 0.12589254117941667   0.1627093863381523 ... 1.2140039080035877e-11\n",
       "  0.1995262314968879   0.2578769987568628 ... 2.4031918205848773e-12\n",
       "  0.3162277660168378   0.4087074998220549 ...  8.464081769258541e-13\n",
       "   0.501187233627272   0.6477577341757765 ... 1.9611728881779492e-13\n",
       "  0.7943282347242809   1.0266268232592235 ...  5.828367031206147e-14\n",
       "  1.2589254117941662   1.6270938633815215 ... 1.2988184218839263e-14\n",
       "  1.9952623149688768   2.5787699875686263 ... 2.9202512751664235e-15\n",
       "   3.162277660168376    4.087074998220547 ... 1.4796283591700434e-15\n",
       "   5.011872336272719    6.477577341757762 ...  6.270703356119615e-16\n",
       "   7.943282347242805   10.266268232592228 ...  3.218689685381609e-16\n",
       "   12.58925411794165    16.27093863381521 ... 1.6622825886631686e-16\n",
       "   19.95262314968877   25.787699875686265 ...  2.651649920643812e-16\n",
       "   31.62277660168376    40.87074998220545 ... 1.5530205124073486e-16\n",
       "  50.118723362727145    64.77577341757755 ...  7.082671084248521e-17\n",
       "   79.43282347242797   102.66268232592222 ...  4.775281035142733e-17\n",
       "  125.89254117941648    162.7093863381521 ... 3.0441582790076444e-17"
      ]
     },
     "execution_count": 34,
     "metadata": {},
     "output_type": "execute_result"
    }
   ],
   "source": [
    "sensitivity"
   ]
  },
  {
   "cell_type": "code",
   "execution_count": 35,
   "metadata": {},
   "outputs": [
    {
     "data": {
      "image/png": "[encoded data removed]",
      "text/plain": [
       "<Figure size 864x576 with 1 Axes>"
      ]
     },
     "metadata": {
      "needs_background": "light"
     },
     "output_type": "display_data"
    }
   ],
   "source": [
    "plt.figure(figsize=(12,8))\n",
    "\n",
    "# Data\n",
    "h = irf_eventdisplay[\"DiffSens\"]\n",
    "\n",
    "#x = np.asarray([(x_bin[1]+x_bin[0])/2. for x_bin in h.allbins[2:-1]])\n",
    "bins = 10**h.edges\n",
    "x = 0.5 * (bins[:-1] + bins[1:])\n",
    "width = np.diff(bins)\n",
    "y = h.values\n",
    "\n",
    "# Plot function\n",
    "plt.errorbar(\n",
    "    x,\n",
    "    y, \n",
    "    xerr=width/2,\n",
    "    yerr=None,\n",
    "    label=\"EventDisplay\",\n",
    "    ecolor = \"blue\",\n",
    "    ls=''\n",
    ")\n",
    "\n",
    "unit = u.Unit('erg cm-2 s-1')\n",
    "\n",
    "sensitivities = {\n",
    "    'pyIRF FINAL': sensitivity,\n",
    "    # 'pyIRF after first theta cuts': sensitivity_step_2,\n",
    "}\n",
    "\n",
    "for label, sens in sensitivities.items():\n",
    "    e = sens['reco_energy_center']\n",
    "    s = (e**2 * sens['flux_sensitivity'])\n",
    "\n",
    "    plt.errorbar(\n",
    "        e.to_value(u.TeV),\n",
    "        s.to_value(unit),\n",
    "        xerr=(sens['reco_energy_high'] - sens['reco_energy_low']).to_value(u.TeV) / 2,\n",
    "        ls='',\n",
    "        label=label\n",
    "    )\n",
    "\n",
    "\n",
    "\n",
    "# Style settings\n",
    "plt.xscale(\"log\")\n",
    "plt.yscale(\"log\")\n",
    "plt.xlabel(\"Reconstructed energy [TeV]\")\n",
    "plt.ylabel(rf\"$(E^2 \\cdot \\mathrm{{Flux Sensitivity}}) /$ ({unit.to_string('latex')})\")\n",
    "plt.grid(which=\"both\")\n",
    "\n",
    "plt.legend(loc=\"best\")\n",
    "plt.savefig('/home/maxnoe/pyirf_sensitivity.png', dpi=300)"
   ]
  },
  {
   "cell_type": "markdown",
   "metadata": {},
   "source": [
    "## Compare Theta Cuts"
   ]
  },
  {
   "cell_type": "code",
   "execution_count": 20,
   "metadata": {},
   "outputs": [
    {
     "data": {
      "image/png": "[encoded data removed]",
      "text/plain": [
       "<Figure size 432x288 with 1 Axes>"
      ]
     },
     "metadata": {
      "needs_background": "light"
     },
     "output_type": "display_data"
    }
   ],
   "source": [
    "from astropy.table import Table\n",
    "\n",
    "for key in ('THETA_CUTS', 'THETA_CUTS_OPT'):\n",
    "    theta_cut = Table.read('../sensitivity.fits.gz', hdu=key)\n",
    "\n",
    "    plt.errorbar(\n",
    "        theta_cut['low'],\n",
    "        theta_cut['cut'].quantity.to_value(u.deg)**2,\n",
    "        xerr=theta_cut['high'] - theta_cut['low'],\n",
    "        ls='',\n",
    "        label='pyirf' + key,\n",
    "    )\n",
    "\n",
    "theta_cut_ed = irf_eventdisplay['ThetaCut;1']\n",
    "plt.errorbar(\n",
    "    10**theta_cut_ed.edges[:-1],\n",
    "    theta_cut_ed.values**2,\n",
    "    xerr=np.diff(10**theta_cut_ed.edges),\n",
    "    ls='',\n",
    "    label='EventDisplay',\n",
    ")\n",
    "\n",
    "plt.legend()\n",
    "plt.ylabel('θ²-cut / deg²')\n",
    "plt.xlabel(r'$E_\\mathrm{reco} / \\mathrm{TeV}$')\n",
    "plt.xscale('log')\n",
    "plt.yscale('log')\n",
    "\n",
    "plt.savefig('/home/maxnoe/theta2_cut.png')"
   ]
  },
  {
   "cell_type": "code",
   "execution_count": null,
   "metadata": {},
   "outputs": [],
   "source": [
    "from astropy.coordinates import Angle\n",
    "from gammapy.maps import MapAxis\n",
    "from gammapy.irf import EffectiveAreaTable2D, EnergyDispersion2D, BgRateTable"
   ]
  },
  {
   "cell_type": "code",
   "execution_count": null,
   "metadata": {},
   "outputs": [],
   "source": [
    "# Effective area\n",
    "\n",
    "# Approach using gammapy\n",
    "\n",
    "#aeff2D = EffectiveAreaTable2D.read(f'{indir_pyirf}/{infile_pyirf}', hdu=1)\n",
    "#print(aeff2D)\n",
    "#aeff=aeff2D.to_effective_area_table(offset=Angle('1d'), energy=energy * u.TeV)\n",
    "#aeff.plot()\n",
    "#plt.grid(which=\"both\")\n",
    "#plt.yscale(\"log\")\n",
    "\n",
    "# Manual approach\n",
    "aeff_pyirf = hdul_pyirf[1]\n",
    "\n",
    "aeff_pyirf_ENERG_LO = aeff_pyirf.data[0][0]\n",
    "aeff_pyirf_EFFAREA  = aeff_pyirf.data[0][4][1]*1.e4 # there seems to be a 10**4 missing...maybe a bug in pyirf?"
   ]
  },
  {
   "cell_type": "code",
   "execution_count": null,
   "metadata": {},
   "outputs": [],
   "source": [
    "# Angular resolution\n",
    "\n",
    "# At the moment the format provided by pyirf is not compatible with GADF\n",
    "# https://gamma-astro-data-formats.readthedocs.io/en/latest/irfs/full_enclosure/psf/index.html\n",
    "\n",
    "psf_pyirf = hdul_pyirf[2]"
   ]
  },
  {
   "cell_type": "code",
   "execution_count": null,
   "metadata": {},
   "outputs": [],
   "source": [
    "# Energy dispersion\n",
    "\n",
    "# here I open manually, but I use gammapy.irf.EnergyDispersion2D to get the energy resolution\n",
    "\n",
    "eDisp_pyirf = hdul_pyirf[3]\n",
    "\n",
    "eDisp_pyirf_ENERG_LO = eDisp_pyirf.data[0][0]\n",
    "eDisp_pyirf_ENERG_HI = eDisp_pyirf.data[0][1]\n",
    "\n",
    "edisp2d_pyirf = EnergyDispersion2D.read(f'{indir_pyirf}/{infile_pyirf}', hdu=\"ENERGY DISPERSION\")\n",
    "edisp_pyirf = edisp2d_pyirf.to_energy_dispersion(offset=Angle('1d'), e_reco=eDisp_pyirf_ENERG_LO * u.TeV, e_true=eDisp_pyirf_ENERG_LO * u.TeV)\n",
    "\n",
    "edisp_true_pyirf = np.asarray([(eDisp_pyirf_ENERG_HI[i]-eDisp_pyirf_ENERG_LO[i])/2. for i in range(len(eDisp_pyirf_ENERG_LO))])\n",
    "\n",
    "resolution_pyirf = []\n",
    "for e_true in edisp_true_pyirf:\n",
    "    resolution_pyirf.append(edisp_pyirf.get_resolution(e_true * u.TeV))\n",
    "resolution_pyirf = np.asarray(resolution_pyirf)"
   ]
  },
  {
   "cell_type": "code",
   "execution_count": null,
   "metadata": {},
   "outputs": [],
   "source": [
    "# Background rate\n",
    "\n",
    "background_pyirf = hdul_pyirf[4]"
   ]
  },
  {
   "cell_type": "code",
   "execution_count": null,
   "metadata": {},
   "outputs": [],
   "source": [
    "# Differential sensitivity\n",
    "\n",
    "sensitivity_pyirf = hdul_pyirf[8]"
   ]
  },
  {
   "cell_type": "markdown",
   "metadata": {
    "nbsphinx": "hidden"
   },
   "source": [
    "## Comparison"
   ]
  },
  {
   "cell_type": "markdown",
   "metadata": {},
   "source": [
    "For the moment we do not require to replicate perfectly the EventDisplay output, because this depends also on:\n",
    "\n",
    "- the configuration in config.yaml,\n",
    "- the specific cuts optiization performed by EventDisplay (which has not yet been replicated in pyirf)\n",
    "\n",
    "This comparison is here to make sure that we can produce a reliable and stable output and use it to proceed with the development.\n",
    "\n",
    "A more detailed and complete version of this notebook will be provided with an official DL3 benchmarking."
   ]
  },
  {
   "cell_type": "markdown",
   "metadata": {},
   "source": [
    "### IRFs\n",
    "[back to top](#Table-of-contents)"
   ]
  },
  {
   "cell_type": "markdown",
   "metadata": {},
   "source": [
    "#### Effective area\n",
    "[back to top](#Table-of-contents)"
   ]
  },
  {
   "cell_type": "code",
   "execution_count": null,
   "metadata": {},
   "outputs": [],
   "source": [
    "zoom = 2\n",
    "plt.figure(figsize=(zoom*4,zoom*3))\n",
    "\n",
    "# Data from EventDisplay\n",
    "h = input_EventDisplay[\"EffectiveAreaEtrue\"]\n",
    "x = np.asarray([(10**x_bin[1]+10**x_bin[0])/2. for x_bin in h.allbins[3:-1]])\n",
    "xerr = np.asarray([(10**x_bin[1]-10**x_bin[0])/2 for x_bin in h.allbins[3:-1]])\n",
    "y = h.allvalues[3:-1]\n",
    "yerr = h.allvariances[3:-1]\n",
    "\n",
    "# Style settings\n",
    "plt.xlim(1.e-2, 2.e2)\n",
    "plt.ylim(1.e3, 1.e7)\n",
    "plt.xscale(\"log\")\n",
    "plt.yscale(\"log\")\n",
    "plt.xlabel(\"True energy [TeV]\")\n",
    "plt.ylabel(\"Effective collection area [cm^2]\")\n",
    "plt.grid(which=\"both\")\n",
    "\n",
    "# Plot function\n",
    "plt.errorbar(x, y, xerr=xerr, yerr=None, fmt=\"o\", label=\"EventDisplay\")\n",
    "plt.loglog(aeff_pyirf_ENERG_LO, aeff_pyirf_EFFAREA, drawstyle='steps-post', label=\"pyirf\")\n",
    "\n",
    "plt.legend(loc=4)\n",
    "plt.show()"
   ]
  },
  {
   "cell_type": "markdown",
   "metadata": {},
   "source": [
    "#### Angular resolution\n",
    "[back to top](#Table-of-contents)"
   ]
  },
  {
   "cell_type": "code",
   "execution_count": null,
   "metadata": {},
   "outputs": [],
   "source": [
    "zoom = 2\n",
    "plt.figure(figsize=(zoom*4,zoom*3))\n",
    "\n",
    "# Data from EventDisplay\n",
    "h = input_EventDisplay[\"AngRes\"]\n",
    "x = np.asarray([(10**x_bin[1]+10**x_bin[0])/2. for x_bin in h.bins])\n",
    "xerr = np.asarray([(10**x_bin[1]-10**x_bin[0])/2 for x_bin in h.bins])\n",
    "y = h.values\n",
    "yerr = h.variances\n",
    "\n",
    "# Style settings\n",
    "plt.xlim(1.e-2, 2.e2)\n",
    "plt.ylim(2.e-2, 1)\n",
    "plt.xscale(\"log\")\n",
    "plt.xlabel(\"True energy [TeV]\")\n",
    "plt.ylabel(\"Angular resolution [deg]\")\n",
    "plt.grid(which=\"both\")\n",
    "\n",
    "# Plot function\n",
    "plt.errorbar(x, y, xerr=xerr, yerr=yerr, fmt=\"o\", label=\"EventDisplay\")\n",
    "\n",
    "plt.semilogy(psf_pyirf.columns[\"ENERG_LO\"].array,\n",
    "             psf_pyirf.columns[\"PSF68\"].array,\n",
    "             drawstyle='steps-post',\n",
    "             label=\"pyirf\")\n",
    "\n",
    "plt.legend(loc=\"best\")\n",
    "plt.show()"
   ]
  },
  {
   "cell_type": "markdown",
   "metadata": {},
   "source": [
    "#### Energy resolution\n",
    "[back to top](#Table-of-contents)"
   ]
  },
  {
   "cell_type": "code",
   "execution_count": null,
   "metadata": {},
   "outputs": [],
   "source": [
    "zoom = 2\n",
    "plt.figure(figsize=(zoom*4,zoom*3))\n",
    "\n",
    "# Data from EventDisplay\n",
    "h = input_EventDisplay[\"ERes\"]\n",
    "x = np.asarray([(10**x_bin[1]+10**x_bin[0])/2. for x_bin in h.bins[1:]])\n",
    "xerr = np.asarray([(10**x_bin[1]-10**x_bin[0])/2 for x_bin in h.bins[1:]])\n",
    "y = h.values[1:]\n",
    "yerr = h.variances[1:]\n",
    "\n",
    "# Style settings\n",
    "plt.xlim(1.e-2, 2.e2)\n",
    "plt.ylim(0., 0.3)\n",
    "plt.xscale(\"log\")\n",
    "#plt.yscale(\"log\")\n",
    "plt.xlabel(\"Reconstructed energy [TeV]\")\n",
    "plt.ylabel(\"Energy resolution\")\n",
    "plt.grid(which=\"both\")\n",
    "\n",
    "# Plot function\n",
    "plt.errorbar(x, y, xerr=xerr, yerr=yerr, fmt=\"o\", label=\"EventDisplay\")\n",
    "plt.semilogx(edisp_true_pyirf, resolution_pyirf, label=\"pyirf\")\n",
    "\n",
    "plt.legend(loc=\"best\")\n",
    "plt.show()"
   ]
  },
  {
   "cell_type": "markdown",
   "metadata": {},
   "source": [
    "#### Background rate\n",
    "[back to top](#Table-of-contents)"
   ]
  },
  {
   "cell_type": "code",
   "execution_count": null,
   "metadata": {},
   "outputs": [],
   "source": [
    "zoom = 2\n",
    "plt.figure(figsize=(zoom*4,zoom*3))\n",
    "\n",
    "# Data from EventDisplay\n",
    "h = input_EventDisplay[\"BGRate\"]\n",
    "x = np.asarray([(10**x_bin[1]+10**x_bin[0])/2. for x_bin in h.bins])\n",
    "xerr = np.asarray([(10**x_bin[1]-10**x_bin[0])/2 for x_bin in h.bins])\n",
    "y = h.values\n",
    "yerr = h.variances\n",
    "\n",
    "# Style settings\n",
    "#plt.xlim(1.e-2, 2.e2)\n",
    "#plt.ylim(1.e-7, 1.1)\n",
    "plt.xscale(\"log\")\n",
    "plt.xlabel(\"Reconstructed energy [TeV]\")\n",
    "plt.ylabel(\"Background rate [s^-1]\")\n",
    "plt.grid(which=\"both\")\n",
    "\n",
    "# Plot function\n",
    "plt.errorbar(x, y, xerr=xerr, yerr=yerr, fmt=\"o\", label=\"EventDisplay\")\n",
    "plt.loglog(background_pyirf.columns['ENERG_LO'].array,\n",
    "           background_pyirf.columns['BGD'].array,\n",
    "           drawstyle='steps-post',\n",
    "           label=\"pyirf\")\n",
    "\n",
    "plt.legend(loc=\"best\")\n",
    "plt.show()"
   ]
  }
 ],
 "metadata": {
  "kernelspec": {
   "display_name": "Python 3",
   "language": "python",
   "name": "python3"
  },
  "language_info": {
   "codemirror_mode": {
    "name": "ipython",
    "version": 3
   },
   "file_extension": ".py",
   "mimetype": "text/x-python",
   "name": "python",
   "nbconvert_exporter": "python",
   "pygments_lexer": "ipython3",
   "version": "3.7.9"
  }
 },
 "nbformat": 4,
 "nbformat_minor": 4
}
